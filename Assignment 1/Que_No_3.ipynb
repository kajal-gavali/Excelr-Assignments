{
 "cells": [
  {
   "cell_type": "code",
   "execution_count": 2,
   "id": "d1d3937f",
   "metadata": {},
   "outputs": [
    {
     "name": "stdout",
     "output_type": "stream",
     "text": [
      "Probability of getting two heads and one tail: 0.3750\n"
     ]
    }
   ],
   "source": [
    "from math import comb\n",
    "\n",
    "# Define the parameters\n",
    "n = 3  # number of coin tosses\n",
    "k = 2  # number of heads\n",
    "p = 0.5  # probability of heads in one toss\n",
    "\n",
    "# Calculate the binomial probability\n",
    "probability = comb(n, k) * (p**k) * ((1 - p)**(n - k))\n",
    "\n",
    "print(f\"Probability of getting two heads and one tail: {probability:.4f}\")"
   ]
  },
  {
   "cell_type": "code",
   "execution_count": null,
   "id": "f816f697",
   "metadata": {},
   "outputs": [],
   "source": []
  }
 ],
 "metadata": {
  "kernelspec": {
   "display_name": "Python 3 (ipykernel)",
   "language": "python",
   "name": "python3"
  },
  "language_info": {
   "codemirror_mode": {
    "name": "ipython",
    "version": 3
   },
   "file_extension": ".py",
   "mimetype": "text/x-python",
   "name": "python",
   "nbconvert_exporter": "python",
   "pygments_lexer": "ipython3",
   "version": "3.10.9"
  }
 },
 "nbformat": 4,
 "nbformat_minor": 5
}
