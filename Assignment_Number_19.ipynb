{
 "cells": [
  {
   "cell_type": "markdown",
   "id": "ad5fdc27",
   "metadata": {},
   "source": [
    "# TEXT CLASSIFICATION USING NAIVE BAYES AND SENTIMENT ANALYSIS ON BLOG POSTS"
   ]
  },
  {
   "cell_type": "code",
   "execution_count": 1,
   "id": "9ce6c308",
   "metadata": {},
   "outputs": [
    {
     "name": "stderr",
     "output_type": "stream",
     "text": [
      "[nltk_data] Downloading package punkt to\n",
      "[nltk_data]     C:\\Users\\Kajal\\AppData\\Roaming\\nltk_data...\n",
      "[nltk_data]   Package punkt is already up-to-date!\n",
      "[nltk_data] Downloading package stopwords to\n",
      "[nltk_data]     C:\\Users\\Kajal\\AppData\\Roaming\\nltk_data...\n",
      "[nltk_data]   Package stopwords is already up-to-date!\n",
      "[nltk_data] Downloading package wordnet to\n",
      "[nltk_data]     C:\\Users\\Kajal\\AppData\\Roaming\\nltk_data...\n",
      "[nltk_data]   Package wordnet is already up-to-date!\n",
      "[nltk_data] Downloading package omw to\n",
      "[nltk_data]     C:\\Users\\Kajal\\AppData\\Roaming\\nltk_data...\n",
      "[nltk_data]   Package omw is already up-to-date!\n"
     ]
    }
   ],
   "source": [
    "# import libraries\n",
    "import nltk\n",
    "nltk.download('punkt')\n",
    "#punkt - This tokenizer divides a text into a list of sentences by using an unsupervised algorithm\n",
    "# to build a model for abbreviation words, collocations, and words that start sentences.\n",
    "nltk.download('stopwords')\n",
    "nltk.download('wordnet')\n",
    "#wordnet-WordNET is a lexical database of words in more than 200 languages in which we have adjectives, adverbs, nouns,\n",
    "# and verbs grouped differently into a set of cognitive synonyms, where each word in the database is expressing its distinct concept.\n",
    "nltk.download('omw')\n",
    "from nltk.stem import PorterStemmer, WordNetLemmatizer\n",
    "from nltk.corpus import stopwords\n",
    "# PortStemmer - for stemming\n",
    "# WordNetLematizer - for lemmatization\n",
    "import re # for regular expression"
   ]
  },
  {
   "cell_type": "code",
   "execution_count": 2,
   "id": "46496498",
   "metadata": {},
   "outputs": [],
   "source": [
    "# Importing Libraries\n",
    "import pandas as pd \n",
    "import numpy as np\n",
    "import matplotlib.pyplot as plt"
   ]
  },
  {
   "cell_type": "code",
   "execution_count": 3,
   "id": "27db79fb",
   "metadata": {},
   "outputs": [
    {
     "data": {
      "text/html": [
       "<div>\n",
       "<style scoped>\n",
       "    .dataframe tbody tr th:only-of-type {\n",
       "        vertical-align: middle;\n",
       "    }\n",
       "\n",
       "    .dataframe tbody tr th {\n",
       "        vertical-align: top;\n",
       "    }\n",
       "\n",
       "    .dataframe thead th {\n",
       "        text-align: right;\n",
       "    }\n",
       "</style>\n",
       "<table border=\"1\" class=\"dataframe\">\n",
       "  <thead>\n",
       "    <tr style=\"text-align: right;\">\n",
       "      <th></th>\n",
       "      <th>Unnamed: 0</th>\n",
       "      <th>Data</th>\n",
       "      <th>Labels</th>\n",
       "    </tr>\n",
       "  </thead>\n",
       "  <tbody>\n",
       "    <tr>\n",
       "      <th>0</th>\n",
       "      <td>0</td>\n",
       "      <td>Xref: cantaloupe.srv.cs.cmu.edu alt.atheism:49...</td>\n",
       "      <td>alt.atheism</td>\n",
       "    </tr>\n",
       "    <tr>\n",
       "      <th>1</th>\n",
       "      <td>1</td>\n",
       "      <td>Xref: cantaloupe.srv.cs.cmu.edu alt.atheism:51...</td>\n",
       "      <td>alt.atheism</td>\n",
       "    </tr>\n",
       "    <tr>\n",
       "      <th>2</th>\n",
       "      <td>2</td>\n",
       "      <td>Newsgroups: alt.atheism\\nPath: cantaloupe.srv....</td>\n",
       "      <td>alt.atheism</td>\n",
       "    </tr>\n",
       "    <tr>\n",
       "      <th>3</th>\n",
       "      <td>3</td>\n",
       "      <td>Xref: cantaloupe.srv.cs.cmu.edu alt.atheism:51...</td>\n",
       "      <td>alt.atheism</td>\n",
       "    </tr>\n",
       "    <tr>\n",
       "      <th>4</th>\n",
       "      <td>4</td>\n",
       "      <td>Xref: cantaloupe.srv.cs.cmu.edu alt.atheism:51...</td>\n",
       "      <td>alt.atheism</td>\n",
       "    </tr>\n",
       "    <tr>\n",
       "      <th>...</th>\n",
       "      <td>...</td>\n",
       "      <td>...</td>\n",
       "      <td>...</td>\n",
       "    </tr>\n",
       "    <tr>\n",
       "      <th>19992</th>\n",
       "      <td>19992</td>\n",
       "      <td>Xref: cantaloupe.srv.cs.cmu.edu alt.atheism:54...</td>\n",
       "      <td>talk.religion.misc</td>\n",
       "    </tr>\n",
       "    <tr>\n",
       "      <th>19993</th>\n",
       "      <td>19993</td>\n",
       "      <td>Xref: cantaloupe.srv.cs.cmu.edu alt.atheism:54...</td>\n",
       "      <td>talk.religion.misc</td>\n",
       "    </tr>\n",
       "    <tr>\n",
       "      <th>19994</th>\n",
       "      <td>19994</td>\n",
       "      <td>Xref: cantaloupe.srv.cs.cmu.edu talk.religion....</td>\n",
       "      <td>talk.religion.misc</td>\n",
       "    </tr>\n",
       "    <tr>\n",
       "      <th>19995</th>\n",
       "      <td>19995</td>\n",
       "      <td>Xref: cantaloupe.srv.cs.cmu.edu talk.religion....</td>\n",
       "      <td>talk.religion.misc</td>\n",
       "    </tr>\n",
       "    <tr>\n",
       "      <th>19996</th>\n",
       "      <td>19996</td>\n",
       "      <td>Xref: cantaloupe.srv.cs.cmu.edu talk.abortion:...</td>\n",
       "      <td>talk.religion.misc</td>\n",
       "    </tr>\n",
       "  </tbody>\n",
       "</table>\n",
       "<p>19997 rows × 3 columns</p>\n",
       "</div>"
      ],
      "text/plain": [
       "       Unnamed: 0                                               Data  \\\n",
       "0               0  Xref: cantaloupe.srv.cs.cmu.edu alt.atheism:49...   \n",
       "1               1  Xref: cantaloupe.srv.cs.cmu.edu alt.atheism:51...   \n",
       "2               2  Newsgroups: alt.atheism\\nPath: cantaloupe.srv....   \n",
       "3               3  Xref: cantaloupe.srv.cs.cmu.edu alt.atheism:51...   \n",
       "4               4  Xref: cantaloupe.srv.cs.cmu.edu alt.atheism:51...   \n",
       "...           ...                                                ...   \n",
       "19992       19992  Xref: cantaloupe.srv.cs.cmu.edu alt.atheism:54...   \n",
       "19993       19993  Xref: cantaloupe.srv.cs.cmu.edu alt.atheism:54...   \n",
       "19994       19994  Xref: cantaloupe.srv.cs.cmu.edu talk.religion....   \n",
       "19995       19995  Xref: cantaloupe.srv.cs.cmu.edu talk.religion....   \n",
       "19996       19996  Xref: cantaloupe.srv.cs.cmu.edu talk.abortion:...   \n",
       "\n",
       "                   Labels  \n",
       "0             alt.atheism  \n",
       "1             alt.atheism  \n",
       "2             alt.atheism  \n",
       "3             alt.atheism  \n",
       "4             alt.atheism  \n",
       "...                   ...  \n",
       "19992  talk.religion.misc  \n",
       "19993  talk.religion.misc  \n",
       "19994  talk.religion.misc  \n",
       "19995  talk.religion.misc  \n",
       "19996  talk.religion.misc  \n",
       "\n",
       "[19997 rows x 3 columns]"
      ]
     },
     "execution_count": 3,
     "metadata": {},
     "output_type": "execute_result"
    }
   ],
   "source": [
    "# Import Dataset\n",
    "df = pd.read_csv('blogs_categories.csv')\n",
    "df"
   ]
  },
  {
   "cell_type": "markdown",
   "id": "cc3669ff",
   "metadata": {},
   "source": [
    "# EDA & Data Preprocessing"
   ]
  },
  {
   "cell_type": "code",
   "execution_count": 4,
   "id": "ce6eca10",
   "metadata": {},
   "outputs": [
    {
     "name": "stdout",
     "output_type": "stream",
     "text": [
      "<class 'pandas.core.frame.DataFrame'>\n",
      "RangeIndex: 19997 entries, 0 to 19996\n",
      "Data columns (total 3 columns):\n",
      " #   Column      Non-Null Count  Dtype \n",
      "---  ------      --------------  ----- \n",
      " 0   Unnamed: 0  19997 non-null  int64 \n",
      " 1   Data        19997 non-null  object\n",
      " 2   Labels      19997 non-null  object\n",
      "dtypes: int64(1), object(2)\n",
      "memory usage: 468.8+ KB\n"
     ]
    }
   ],
   "source": [
    "df.info()"
   ]
  },
  {
   "cell_type": "code",
   "execution_count": 5,
   "id": "1e981e56",
   "metadata": {},
   "outputs": [
    {
     "data": {
      "text/plain": [
       "Unnamed: 0    0\n",
       "Data          0\n",
       "Labels        0\n",
       "dtype: int64"
      ]
     },
     "execution_count": 5,
     "metadata": {},
     "output_type": "execute_result"
    }
   ],
   "source": [
    "# Checking for null values\n",
    "df.isna().sum()"
   ]
  },
  {
   "cell_type": "code",
   "execution_count": 6,
   "id": "3c8cf35b",
   "metadata": {},
   "outputs": [
    {
     "data": {
      "text/plain": [
       "19466"
      ]
     },
     "execution_count": 6,
     "metadata": {},
     "output_type": "execute_result"
    }
   ],
   "source": [
    "# Checking predefined no.of cluster\n",
    "df['Data'].nunique()"
   ]
  },
  {
   "cell_type": "code",
   "execution_count": 7,
   "id": "65206983",
   "metadata": {},
   "outputs": [
    {
     "data": {
      "text/html": [
       "<div>\n",
       "<style scoped>\n",
       "    .dataframe tbody tr th:only-of-type {\n",
       "        vertical-align: middle;\n",
       "    }\n",
       "\n",
       "    .dataframe tbody tr th {\n",
       "        vertical-align: top;\n",
       "    }\n",
       "\n",
       "    .dataframe thead th {\n",
       "        text-align: right;\n",
       "    }\n",
       "</style>\n",
       "<table border=\"1\" class=\"dataframe\">\n",
       "  <thead>\n",
       "    <tr style=\"text-align: right;\">\n",
       "      <th></th>\n",
       "      <th>Unnamed: 0</th>\n",
       "    </tr>\n",
       "  </thead>\n",
       "  <tbody>\n",
       "    <tr>\n",
       "      <th>count</th>\n",
       "      <td>19997.000000</td>\n",
       "    </tr>\n",
       "    <tr>\n",
       "      <th>mean</th>\n",
       "      <td>9998.000000</td>\n",
       "    </tr>\n",
       "    <tr>\n",
       "      <th>std</th>\n",
       "      <td>5772.781002</td>\n",
       "    </tr>\n",
       "    <tr>\n",
       "      <th>min</th>\n",
       "      <td>0.000000</td>\n",
       "    </tr>\n",
       "    <tr>\n",
       "      <th>25%</th>\n",
       "      <td>4999.000000</td>\n",
       "    </tr>\n",
       "    <tr>\n",
       "      <th>50%</th>\n",
       "      <td>9998.000000</td>\n",
       "    </tr>\n",
       "    <tr>\n",
       "      <th>75%</th>\n",
       "      <td>14997.000000</td>\n",
       "    </tr>\n",
       "    <tr>\n",
       "      <th>max</th>\n",
       "      <td>19996.000000</td>\n",
       "    </tr>\n",
       "  </tbody>\n",
       "</table>\n",
       "</div>"
      ],
      "text/plain": [
       "         Unnamed: 0\n",
       "count  19997.000000\n",
       "mean    9998.000000\n",
       "std     5772.781002\n",
       "min        0.000000\n",
       "25%     4999.000000\n",
       "50%     9998.000000\n",
       "75%    14997.000000\n",
       "max    19996.000000"
      ]
     },
     "execution_count": 7,
     "metadata": {},
     "output_type": "execute_result"
    }
   ],
   "source": [
    "df.describe()  # data should be normalized"
   ]
  },
  {
   "cell_type": "code",
   "execution_count": 8,
   "id": "52cbf1b2",
   "metadata": {},
   "outputs": [
    {
     "data": {
      "text/plain": [
       "Xref: cantaloupe.srv.cs.cmu.edu talk.politics.guns:53307 talk.politics.medicine:1641 talk.politics.mideast:75377 talk.politics.misc:176875 talk.politics.soviet:22962 talk.politics.space:2659 talk.politics.theory:19580 talk.rape:7211 talk.religion.misc:82765\\nNewsgroups: talk.politics.guns,talk.politics.medicine,talk.politics.mideast,talk.politics.misc,talk.politics.soviet,talk.politics.space,talk.politics.theory,talk.rape,talk.religion.misc\\nPath: cantaloupe.srv.cs.cmu.edu!crabapple.srv.cs.cmu.edu!fs7.ece.cmu.edu!europa.eng.gtefsd.com!emory!wupost!uwm.edu!cs.utexas.edu!uunet!orca!mesa!rthomson\\nFrom: Bob.Waldrop@f418.n104.z1.fidonet.org (Bob Waldrop)\\nSubject: Celebrate Liberty!  1993\\nMessage-ID: <1993Apr5.201336.16132@dsd.es.com>\\nFollowup-To: talk.politics.misc\\nOriginator: rthomson@mesa\\nX-Sequence: 12\\nSender: usenet@dsd.es.com\\nNntp-Posting-Host: 130.187.85.21\\nReply-To: Bob.Waldrop@f418.n104.z1.fidonet.org (Bob Waldrop)\\nX-Us-Mail: P.O. Box 526175, Salt Lake City, UT 84152\\nX-Telephone: 801-582-3318\\nOrganization: Morning Glory Productions, SLC, UT\\nDate: Mon, 5 Apr 93 20:13:36 GMT\\nLines: 323\\n\\nAnnouncing. . . Announcing. . . Announcing. . .Announcing. . .\\n\\n                             CELEBRATE LIBERTY!\\n                 1993 LIBERTARIAN PARTY NATIONAL CONVENTION\\n                             AND POLITICAL EXPO\\n\\n                   THE MARRIOTT HOTEL AND THE SALT PALACE\\n                            SALT LAKE CITY, UTAH\\n\\n                   INCLUDES INFORMATION ON DELEGATE DEALS!\\n                          (Back by Popular Demand!)\\n\\nThe convention will be held at the Salt Palace Convention Center and the\\nMarriott Hotel, Salt Lake City, Utah.  The business sessions, Karl Hess\\nInstitute, and Political Expo are at the Salt Palace; breakfasts, parties, and\\nbanquet are at the Marriott Hotel.\\n\\nMarriott Hotel room rates are $79.00 night, plus 10.5% tax ($87.17 total). \\nThis rate is good for one to four persons room occupancy.  Double is one\\nor two beds; 3 or 4 people is 2 beds.  You can make your reservations\\ndirect with the hotel (801-531-0800), or you can purchase your room\\nthrough one of MGP's payment plans.  MGP will provide assistance in\\nmatching roommates if requested.\\n\\n\\nAugust 30, 31, Sept. 1:           Everything You Always Wanted to\\n                                  Know About Winning Elections, but\\n                                  Didn't Know Where to Ask!\\n\\nThree days of intensive campaign training conducted by Sal Guzzetta, a\\n25 year veteran of more than 200 campaigns.  Students receive 990 pages\\nof professional campaign manuals.  Everything from strategy and\\ntargeting to opposition research, fundraising, and field operations.\\n\\nPrice:           $150 if purchased by May 1, 1993\\n                 $175 thereafter\\n\\nAugust 31 and Sept. 1:            Platform, Bylaws, Credentials and\\n                                  National committee meetings.\\n\\nShoot out in Salt Lake!  PLEDGE versus Committee for a Libertarian\\nMajority.  Will the party's membership and platform definitions change? \\nIs compromise possible?  The Platform and Bylaws committees are\\nresponsible for making recommendations to the convention concerning\\nchanges in those documents.  At this convention, the party will only\\nconsider deletions to the platform.  The Convention Rules would have to\\nbe amended by a 2/3 vote to change this rule.\\n\\nThe meetings are open to the public.  There is no charge for attending. \\n\\n\\nSept. 2-5, 1993: Celebrate Liberty! Begins\\n                 Political Expo Opens\\n\\nSept. 2, 1993:   9 AM -- Credentials Committee report to the delegates.\\n\\n                 10:30 -- Gala Opening Ceremony and Keynote Address\\n                 by Russell Means.  \\n\\n                 1:00 -- After lunch break, convention business continues\\n                 (see \"Standing Order of Business\" from the \"Convention\\n                 Rules of the Libertarian Party\" at the end of this\\n                 document.\\n\\n                 Karl Hess Institute of Libertarian Politics Begins, runs in\\n                 tandem with the business sessions.\\n\\nSept. 3, 1993:   Dawns Early Light, Green Dragon Inn (morning and\\n                 evening), with Karl Hess Institute and convention\\n                 business in between.\\n\\nSept. 4, 1993:   Dawns Early Light, Freedom Rock '93, Karl Hess\\n                 Institute, convention business.\\n\\nSept. 5, 1993:   Dawns Early Light, Convention Banquet, Karl Hess\\n                 Institute, convention business, Joyful Noise.\\n\\n\\n\\n                      ACTIVITY DESCRIPTIONS:\\n\\nDAWNS EARLY \\nLIGHT            Three great convention breakfasts to start your days\\n                 right, featuring science fiction author L. Neil Smith,\\n                 psychiatrist and author Dr. Thomas Szasz, and South\\n                 African Libertarian leader Frances Kendall.\\n\\nGREEN DRAGON \\nINN              \"Opening night\" party, named after the famous inn\\n                 where Sam Adams and his crowd plotted trouble for the\\n                 British over pints of ale and beer.  Music, food, drink,\\n                 and comedy.\\n\\nFREEDOM \\nROCK '93         Free downtown rock concert Friday night, with drum\\n                 circle, comic Tim Slagle, Middle Eastern dancer, reggae,\\n                 and local classic rock-n-roll bands.  Will be widely\\n                 publicized in the local area.  Major outreach opportunity.\\n\\nBANQUET          Vivaldi and Mozart, fine dining, in the elegant Marriott\\n                 Grand Ballroom (black tie optional).  Dancing follows.\\n\\nPOLITICAL \\nEXPO             Exhibits and vendors.  FREE admission.  Event will be\\n                 widely publicized in local area for maximum draw. \\n                 Major Outreach opportunity.\\n\\n\\n\\n                KARL HESS INSTITUTE OF LIBERTARIAN  POLITICS\\n\\n         Workshops, speakers, roundtable discussions in these areas:\\n\\nLIBERTY:  NEXT\\nGENERATION               High school and college age Libertarians talk\\n                         about what matters to them and the 20-\\n                         something generation.\\n\\nAGENDA 2000              Considers key issues of the 1990s.  Environment. \\n                         Health Care.  21st Century Economics.  Drug\\n                         War.  Second Amendment.  Social Services. \\n                         Foreign Policy.  Crime & Violence.  AIDS.\\n\\nTHE GREAT DEBATE         LP Strategy and tactics.  Media.  Ballot Access. \\n                         Initiatives.  Feminist Issues.  Presidential\\n                         Campaigns.  LP Elected Officials.  Grassroots. \\n                         Early look at the 1996 presidential nomination.\\n\\nVALUES FOR \\nTHE 90s                  Community.  Children.  Abundance.  Home\\n                         Schooling.  Religion and Liberty.  Race.\\n\\nCAMPUS FOCUS             Organizing.  Academia.  Blue Collar Youth.\\n\\n\\n\\n                 CONVENTION PACKAGE DESCRIPTIONS AND PRICES\\n\\nTOTAL EVENT:             All activities, Aug. 30-Sept. 5, $400, including 3\\n                         day candidate training\\n\\nFull Celebration:        All convention activities, Sept. 2-5, $300\\n\\nLate Riser               No breakfasts, everything else Sept. 2-5, $250\\n\\nThrift                   No breakfasts or banquet, $150\\n\\nIssues Focus             Karl Hess Institute, $125\\n\\nBasic                    Convention packet, souvenirs, two Karl Hess\\n                         Institute speakers\\n\\nFree                     Political Expo, Access to convention hall,\\n                         Keynote Address, Joyful Noise, Freedom Rock\\n                         '93, three free outreach speakers.\\n\\nPLEASE NOTE:\\n--       PRICES INCREASE MAY 1, 1993\\n--       Special student prices are available to anyone under 25 years of\\n         age or who is enrolled in a college or university.\\n\\n--       Six and seven month payment plans are available which can\\n         include housing (if requested).\\n\\n--       To add the three day candidate training to any package below\\n         (except \"Total Event\"), add $150 to the price.\\n\\n--       All prices are in U.S. dollars.\\n\\n--       Advertising is available in the convention program; exhibits and\\n         sponsorships are available for the Political Expo.  Free Political\\n         Expo admission and MGP promotions will draw visitors from the\\n         surrounding community (one million people live within a 30\\n         minute drive of the Expo).\\n\\n--       If your special interest group, organization, committee, or cause\\n         would like to schedule space for a presentation, contact us.\\n\\n--       MGP conducts a drawing each month and gives away FREE\\n         hotel nights.  The sooner you register, the more chances you have\\n         to win.\\n\\n--       Roommate match service available upon request.\\n\\n\\nOTHER EVENTS:\\n\"Anti-Federalist Two\"    MGP sponsored writing contest.  June\\n                         submission deadline.  Contact MGP for\\n                         prospectus.\\n\\n\"The Libertarian \\nGames\"                   Friendly competition -- marksmanship, computer\\n                         programming, chess, maybe more.\\n\\nLibertarians for Gay &\\nLesbian Concerns         Business meeting, social night, sponsored by\\n                         LGLC.\\n\\n???                      YOUR EVENT CAN BE LISTED HERE.  Contact\\n                         MGP for details.\\n\\n\\n\\n                         ATTENTION COLLEGE STUDENTS!\\n\\nSpecial discounts are available for college and high school students.  We\\nwill work on casual housing opportunities for the \"Poverty Caucus\". \\nCollege Libertarians will meet at Celebrate Liberty! and discuss the future\\nof their movement on campuses.  Contact MGP for more details.\\n\\n\\n\\n\\t\\t\\t   LIST OF SPEAKERS\\n\\t\\t       (as of March 14, 1993):\\n\\nDean Ahmad\\t\\tJim Hudler\\t\\tSheldon Richman\\nKaren Allard\\t\\tJeff Hummel\\t\\tKathleen Richman\\nRick Arnold\\t\\tAlexander Joseph\\tDan Rosenthal\\nDr. George Ayittey\\tFrances Kendall\\t\\tDr. Mary Ruwart\\nAlan Boch\\t\\tMartin Luther King\\tDagny Sharon\\nRichard Boddie\\t\\tMe-Me King\\t\\tJane Shaw\\nGus Dizerega\\t\\tHenry Lamb\\t\\tSandy Shaw\\nLarry Dodge\\t\\tAmy Lassen\\t\\tL. Neil Smith\\nDr. Richard Ebeling\\tScott Lieberman\\t\\tEric Sterling\\nDon Ernsberger\\t\\tDr. Nancy Lord\\t\\tDr. Richard Stroup\\nBill Evers\\t\\tRussell Means\\t\\tDr. Thomas Szasz\\nBonnie Flickenger\\tVince Miller\\t\\tMichael Tanner\\nJohn Fund\\t\\tMaury Modine\\t\\tSojourner Truth\\nDoris Gordon\\t\\tDavid Nolan\\t\\tYuri Tuvim\\nLeon Hadar\\t\\tRandall O'Toole\\t\\tBob Waldrop\\nPatrick Henry\\t\\tJames Ostrowski\\t\\tTerree Wasley\\nKarl Hess\\t\\tDirk Pearson\\t\\tPerry Willis\\nDr. Karl Hess Jr.\\tBob Poole\\t\\tRichard Winger\\nJacob Honrberger\\tCarole Ann Rand\\t\\tJarret Wollstein\\n\\t\\t\\t\\t\\t\\tBrigham Young\\n\\n\\n\\n\\t\\t  UPCOMING CONVENTION DEVELOPMENTS!\\n\\nOn May 1st, prices increase for convention packages, candidate training,\\nand exhibits/advertising:\\n\\nNew prices for convention packages will be:\\n\\nTotal Event:             $450\\nFull Celebration:        $350\\nLate Riser:              $275\\nThrift:                  $175\\nIssues Focus:            $150\\nBasic:                   $30\\nFree:                    $0\\n\\nThese prices good through July 2, 1993.\\n\\n\\n                          BACK BY POPULAR DEMAND!  \\n                       ANNOUNCING THE DELEGATE DEALS!\\n                            Available May 1, 1993\\n\\nI:       Business Focus:  All convention activities except Karl Hess\\n         Institute -- $275\\n\\nII:      Delegate Celebration, includes a complete set of Karl Hess\\n         Institute audio tapes instead of institute tickets -- $350\\n\\n\\n\\n                       STANDING ORDER OF BUSINESS FOR\\n                       A LIBERTARIAN PARTY CONVENTION\\n \\n     1. Call to order\\n \\n     2. Credentials Committee report\\n \\n     3. Adoption of agenda\\n \\n     4. Treasurer's report\\n \\n     5. Bylaws and Rules Committee report (Non-nominating conventions\\n        only)\\n \\n     6. Platform Committee report (At non-Presidential nominating\\n        conventions only deletions may be considered.)\\n \\n     7. Nomination of Party candidates for President and\\n        Vice-President (in appropriate years)\\n \\n     8. Election of Party Officers and at-large members\\n        of the National Committee\\n \\n     9. Election of Judicial Committee\\n \\n     10. Resolutions\\n \\n     11. Other business\\n\\n\\n\\n                         FOR QUESTIONS OR COMMENTS,\\n\\n                             GRUMBLES OR GRINS,\\n\\n                          SUGGESTIONS OR CRITICISM,\\n\\n                                     AND\\n\\n                                TO REGISTER,\\n\\n                                  CONTACT:\\n\\n                       MORNING GLORY PRODUCTIONS, INC.\\n                               P.O. Box 526175\\n                          Salt Lake City, UT  84152\\n                                801.582.3318\\n                E-mail: Bob.Waldrop@f418.n104.z1.fidonet.org\\n\\n           Make Checks Payable to Morning Glory Productions, Inc.\\n-- \\n\\t\\t      Don't blame me; I voted Libertarian.\\nDisclaimer: I speak for myself, except as noted; Copyright 1993 Rich Thomson\\nUUCP: ...!uunet!dsd.es.com!rthomson\\t\\t\\tRich Thomson\\nInternet: rthomson@dsd.es.com\\tIRC: _Rich_\\t\\tPEXt Programmer\\n                                                                                                                                                                                                                                                                                                                                                                                                                                                                                                                                                                                                                                                                                                                                                                                                                                                                                                                                                                                                                                                                                                                                                                                                                                                                                                                                                                                                                                                                                                                                                                                                                                                                                                                                                                                                                                                                                                                                                                                                                                                                                                                                                                                                                                                                                                                                                                                                                                                                                                                                                                                                                                                                                                                                                                                                                                                                                                                                                                                                                                                                                                                                                                                                                                                                                                                                                                                                                                                                                                                                                                                                                                                                                                                                                                                                                                                                                                                                                                                                                                                                                                                                                                                                                                                                                                                                                                                                                                                                                                                                                                                                                                                                                                                                                                                                                                                                                                                                                                                                                                                                                                                                                                                                                                                                                                                                                                                                                                                                                                                                                                                                                                                                                                                                                                                                                                                                                                                                                                                                                                                                                                                                                                                                                                                                                                                                                                                                                                                                                                                                                                                                                                                                                                                                                                                                                                                                                                                                                                                                                                                                                                                                                                                                                                                                                                                                                                                                                                                                                                                                                                                                                                                                                                                                                                                                                                                                                                                                                                                                                                                                                                                                                                                                                                                                                                                                                                                                                                                                                                                                                                                                                                                                                                                                                                                                                                                                                                                                                                                                                                                                                                                                                                                                                                                                                                                                                                                                                                                                                                                                                                                                                                                                                                                                                                                                                                                                                                                                                                                                                                                                                                                                                                                                                                                                                                                                                                                                                                                                                                                                                                                                                                                                                                                                                                                                                                                                                                                                                                                                                                                                                                                                                                                                                                                                                                                                                                                                                                                                                                                                                                                                                                                                                                                                                                                                                                                                                                                                                                                                                                                                                                                                                                                                                                                                                                   4\n",
       "Xref: cantaloupe.srv.cs.cmu.edu comp.sys.ibm.pc.hardware:58834 comp.sys.mac.hardware:50424 comp.sys.mac.wanted:21234 misc.forsale:74723 misc.forsale.computers.mac:5263 misc.forsale.computers.other:4675 misc.forsale.computers.pc-clone:7128 misc.forsale.computers.workstation:1539\\nPath: cantaloupe.srv.cs.cmu.edu!das-news.harvard.edu!ogicse!emory!wupost!sdd.hp.com!portal!ltruong\\nFrom: ltruong@shell.portal.com (loan M Truong)\\nNewsgroups: comp.sys.ibm.pc.hardware,comp.sys.mac.hardware,ba.market.computers,ba.market.misc,comp.sys.mac.wanted,misc.forsale,misc.forsale.computers.mac,misc.forsale.computers.other,misc.forsale.computers.pc-clone,misc.forsale.computers.workstation\\nSubject: SCSI disk 660 Mb FORSALE\\nMessage-ID: <C51B2L.CAu@unix.portal.com>\\nDate: 5 Apr 93 23:39:51 GMT\\nArticle-I.D.: unix.C51B2L.CAu\\nSender: news@unix.portal.com\\nDistribution: usa\\nOrganization: Portal Communications Company -- 408/973-9111 (voice) 408/973-8091 (data)\\nLines: 13\\nNntp-Posting-Host: jobe\\n\\n\\n         I have the 660Mb SCSI-1 disk drive currently used for my Mac \\n    but it can be use for PC also. In good condition , rarely use and\\n    no bad track, 5.25\" Full high, fast and quiet for sale $650 plus\\n    shipping (out of SF bay area). And here's spec.:\\n\\t Model 97548 made by HP,790Mb(Unformatted), seek time 16.5 ms \\n    average,150,000 hours MTBF, 16 heads.\\n\\n    If you're interest please drop me a email.\\n\\n\\n\\n         \\n                                                                                                                                                                                                                                                                                                                                                                                                                                                                                                                                                                                                                                                                                                                                                                                                                                                                                                                                                                                                                                                                                                                                                                                                                                                                                                                                                                                                                                                                                                                                                                                                                                                                                                                                                                                                                                                                                                                                                                                                                                                                                                                                                                                                                                                                                                                                                                                                                                                                                                                                                                                                                                                                                                                                                                                                                                                                                                                                                                                                                                                                                                                                                                                                                                                                                                                                                                                                                                                                                                                                                                                                                                                                                                                                                                                                                                                                                                                                                                                                                                                                                                                                                                                                                                                                                                                                                                                                                                                                                                                                                                                                                                                                                                                                                                                                                                                                                                                                                                                                                                                                                                                                                                                                                                                                                                                                                                                                                                                                                                                                                                                                                                                                                                                                                                                                                                                                                                                                                                                                                                                                                                                                                                                                                                                                                                                                                                                                                                                                                                                                                                                                                                                                                                                                                                                                                                                                                                                                                                                                                                                                                                                                                                                                                                                                                                                                                                                                                                                                                                                                                                                                                                                                                                                                                                                                                                                                                                                                                                                                                                                                                                                                                                                                                                                                                                                                                                                                                                                                                                                                                                                                                                                                                                                                                                                                                                                                                                                                                                                                                                                                                                                                                                                                                                                                                                                                                                                                                                                                                                                                                                                                                                                                                                                                                                                                                                                                                                                                                                                                                                                                                                                                                                                                                                                                                                                                                                                                                                                                                                                                                                                                                                                                                                                                                                                                                                                                                                                                                                                                                                                                                                                                                                                                                                                                                                                                                                                                                                                                                                                                                                                                                                                                                                                                                                                                                                                                                                                                                                                                                                                                                                                                                                                                                                                                                                                                                                                                                                                                                                                                                                                                                                                                                                                                                                                                                                                                                                                                                                                                                                                                                                                                                                                                                                                                                                                                                                                                                                                                                                                                                                                                                                                                                                                                                                                                                                                                                                                                                                                                                                                                                                                                                                                                                                                                                                                                                                                                                                                                                                                                                                                                                                                                                                                                                                                                                                                                                                                                                                                                                                                                                                                                                                                                                                                                                                                                                                                                                                                                                                                                                                                                                                                                                                                                                                                                                                                                                                                                                                                                                                                                                                                                                                                                                                                                                                                                                                                                                                                                                                                                                                                                                                                                                                                                                                                                                                                                                                                                                                                                                                                                                                                                                                                                                                                                                                                                                                                                                                                                                                                                                                                                                                                                                                                                                                                                                                                                                                                                                                                                                                                                                                                                                                                                                                                                                                                                                                                                                                                                                                                                                                                                                                                                                                                                                                                                                                                                                                                                                                                                                                                                                                                                                                                                                                                                                                                                                                                                                                                                                                                                                                                                                                                                                                                                                                                                                                                                                                                                                                                                                                                                                                                                                                                                                                                                                                                                                                                                                                                                                                                                                                                                                                                                                                                                                                                                                                                                                                                                                                                                                                                                                                                                                                                                                                                                                                                                                                                                                                                                                                                                                                                                                                                                                                                                                                                                                                                                                                                                                                                                                                                                                                                                                                                                                                                                                                                                                                                                                                                                                                                                                                                                                                                                                                                                                                                                                                                                                                                                                                                                                                                                                                                                                                                                                                                                                                                                                                                                                                                                                                                                                                                                                                                                                                                                                                                                                                                                                                                                                                                                                                                                                                                                                                                                                                                                                                                                                                                                                                                                                                                                                                                                                                                                                                                   3\n",
       "Xref: cantaloupe.srv.cs.cmu.edu talk.politics.china:5110 talk.politics.cis:65 talk.politics.drugs:13526 talk.politics.guns:53306 talk.politics.mideast:75376 talk.politics.misc:176874 talk.politics.soviet:22961 talk.politics.space:2658\\nNewsgroups: talk.politics.china,talk.politics.cis,talk.politics.drugs,talk.politics.guns,talk.politics.mideast,talk.politics.misc,talk.politics.soviet,talk.politics.space\\nPath: cantaloupe.srv.cs.cmu.edu!crabapple.srv.cs.cmu.edu!fs7.ece.cmu.edu!europa.eng.gtefsd.com!emory!wupost!cs.utexas.edu!uunet!orca!mesa!rthomson\\nFrom: Bob.Waldrop@f418.n104.z1.fidonet.org (Bob Waldrop)\\nSubject: PUBLIC HEARINGS on Ballot Access, Vote Fraud and Other Issues\\nMessage-ID: <1993Apr5.201016.15742@dsd.es.com>\\nFollowup-To: talk.politics.misc\\nOriginator: rthomson@mesa\\nX-Sequence: 8\\nSender: usenet@dsd.es.com\\nNntp-Posting-Host: 130.187.85.21\\nReply-To: Bob.Waldrop@f418.n104.z1.fidonet.org (Bob Waldrop)\\nX-Us-Mail: P.O. Box 526175, Salt Lake City, UT 84152\\nX-Telephone: 801-582-3318\\nOrganization: Morning Glory Productions, SLC, UT\\nDate: Mon, 5 Apr 93 20:10:16 GMT\\nLines: 605\\n\\n-+-+-+-+-+-+-+-+-+-+-+-+-+-+-+-+-+-+-+-+-+-+-+-+-+-+-+-+-+-+-\\n Announcing. . . Announcing. . . Announcing. . . Announcing\\n-+-+-+-+-+-+-+-+-+-+-+-+-+-+-+-+-+-+-+-+-+-+-+-+-+-+-+-+-+-+-\\n\\n                     PUBLIC HEARINGS\\n\\n                on the compliance by the \\n\\n                UNITED STATES GOVERNMENT\\n\\n          and the governments of the states of\\n\\n         FLORIDA, LOUISIANA, ARKANSAS, MISSOURI,\\n         WEST VIRGINIA, NORTH CAROLINA, INDIANA,\\n          MARYLAND, OKLAHOMA, NEVADA, WYOMING,\\n                   GEORGIA, AND MAINE\\n\\n      with Certain International Agreements Signed\\n     by the United States Government, in particular,\\n\\n           THE INTERNATIONAL COVENANT ON CIVIL\\n                  AND POLITICAL RIGHTS\\n                 (signed 5 October 1977)\\n\\n                         and the\\n\\n        DOCUMENT OF THE COPENHAGEN MEETING OF THE\\n        CONFERENCE ON THE HUMAN DIMENSION OF THE\\n         CONFERENCE ON SECURITY AND COOPERATION\\n                        IN EUROPE\\n                       (June 1990)\\n\\n                 A Democracy Project of\\n\\n                   CELEBRATE LIBERTY!\\n        THE 1993 LIBERTARIAN NATIONAL CONVENTION\\n                   AND POLITICAL EXPO\\n\\n                     Sept. 2-5, 1993\\n              Salt Palace Convention Center\\n                     Marriott Hotel\\n                  Salt Lake City, Utah\\n\\n-+-+-+-+-+-+-+-+-+-+-+-+-+-+-+-+-+-+-+-+-+-+-+-+-+-+-+-+-\\n-+-+-+-+-+-+-+-+-+-+-+-+-+-+-+-+-+-+-+-+-+-+-+-+-+-+-+-+-\\n                            \\nThese hearings will investigate charges that the governments\\nreferenced above routinely violate the political and\\ndemocratic rights of political minority parties.  Persons\\ninterested in testifying at these hearings, or in submitting\\nwritten or documentary evidence, should contact:\\n\\n                       Bob Waldrop\\n                     P.O. Box 526175\\n                Salt Lake City, UT  84152\\n                     (801)-582-3318\\n          Bob.Waldrop@f418.n104.z1.fidonet.org\\n\\nExamples of possible information of interest includes\\nevidence and testimony regarding: \\n\\n(1)   Unfair or unequal treatment of political minorities;\\n\\n(2)   Physical assaults on volunteers, candidates, or\\n      members of minority parties;\\n\\n(3)   Arrests of minority party petitioners, candidates, or\\n      members while engaged in political activity;\\n\\n(4)   Structural barriers to organizing third parties and/or\\n      running for office as anything other than a Democrat\\n      or Republican (e.g. signature totals required for\\n      petitions to put new parties and candidates on ballots,\\n      requirements for third parties that Democrats and\\n      Republicans are not required to meet, etc.);\\n\\n(5)   Taxpayer subsidies of Democratic and Republican\\n      candidates that are denied or not available to third\\n      parties;\\n\\n(6)   Fraudulent or non-reporting of minority party vote\\n      totals (e.g. stating totals for Democratic and\\n      Republican party candidates as equal to 100% of the\\n      vote);\\n\\n(7)   Refusals by state legislatures, governors, and courts to\\n      hear petitions for redress of grievances from third\\n      parties, and/or unfavorable rulings/laws\\n      discriminating against third parties;\\n\\n(8)   Refusal to allow registration as a member of a third\\n      party when registering to vote (in states where\\n      partisan voter registration is optional or required);\\n\\n(9)   Vote fraud, stuffing ballot boxes, losing ballots, fixing\\n      elections, threatening candidates, ballot printing errors;\\n      machine voting irregularities, dishonest/corrupt\\n      election officials, refusal to register third party voters\\n      or allow filing by third party candidates; failure to\\n      print third party registration options on official voter\\n      registration documents; intimidation of third party\\n      voters and/or candidates; and/or any other criminal\\n      acts by local, county, state or federal election officials;\\n\\n(10)  Exclusion of third party candidates from debate\\n      forums sponsored by public schools, state colleges and\\n      universities, and governments (including events\\n      carried on television and radio stations owned and/or\\n      subsidized by governments;\\n\\n(11)  Any other information relevant to the topic.\\n\\nInformation is solicited about incidents relating to all non-\\nDemocratic and non-Republican political parties, such as\\nLibertarian, New Alliance, Socialist Workers Party, Natural\\nLaw Party, Taxpayers, Populist, Consumer, Green, American,\\nCommunist, etc., as well as independent candidates such as\\nJohn Anderson, Ross Perot, Eugene McCarthy, Barry\\nCommoner, etc.\\n\\n\\n-+-+-+-+-+-+-+-+-+-+-+-+-+-+-+-+-+-+-+-+-+-+-+-+-+-+-+-+-\\n-+-+-+-+-+-+-+-+-+-+-+-+-+-+-+-+-+-+-+-+-+-+-+-+-+-+-+-+-\\n\\nRepresentatives of the governments referenced above will be\\ninvited to respond to any allegations.\\n\\n-+-+-+-+-+-+-+-+-+-+-+-+-+-+-+-+-+-+-+-+-+-+-+-+-+-+-+-+-\\n-+-+-+-+-+-+-+-+-+-+-+-+-+-+-+-+-+-+-+-+-+-+-+-+-+-+-+-+-\\n\\n\\n        RELEVANT SECTIONS OF THE DOCUMENT OF THE\\n          COPENHAGEN MEETING REFERENCED ABOVE:\\n\\n\"(The participating States) recognize that pluralistic\\ndemocracy and the rule of law are essential for ensuring\\nrespect for all human rights and fundamental freedoms. . .\\nThey therefore welcome the commitment expressed by all\\nparticipating States to the ideals of democracy and political\\npluralism. . . The participating States express their conviction\\nthat full respect for human rights and fundamental freedoms\\nand the development of societies based on pluralistic\\ndemocracy. . . are prerequisites for progress in setting up the\\nlasting order of peace, security, justice, and co-operation. . .\\nThey therefore reaffirm their commitment to implement fully\\nall provisions of the Final Act and of the other CSCE\\ndocuments relating to the human dimension. . . In order to\\nstrengthen respect for, and enjoyment of, human rights and\\nfundamental freedoms, to develop human contacts and to\\nresolve issues of a related humanitarian character, the\\nparticipating States agree on the following. . .\\n\\n\"(2). . . They consider that the rule of law does not mean\\nmerely a formal legality which assures regularity and\\nconsistency in the achievement and enforcement of\\ndemocratic order, but justice based on the recognition and\\nfull acceptance of the supreme value of the human\\npersonality and guaranteed by institutions providing a\\nframework for its fullest expression.\"\\n      \\n\"(3)  They reaffirm that democracy is an inherent element of\\nthe rule of law.  They recognize the importance of pluralism\\nwith regard to political organizations.\"\\n\\n\"(4)  They confirm that they will respect each other's right\\nfreely to choose and develop, in accordance with\\ninternational human rights standards, their political, social,\\neconomic and cultural systems.  In exercising this right, they\\nwill ensure that their laws, regulations, practices, and policies\\nconform with their obligations under international law and\\nare brought into harmony with the provisions of the\\nDeclaration on Principles and other CSCE commitments.\"\\n\\n\"(5)  They solemnly declare that among those elements of\\njustice which are essential to the full expression of the\\ninherent dignity and of the equal and inalienable rights of all\\nhuman beings are the following. . .\"\\n\\n\". . . (5.4) -- a clear separation between the State and political\\nparties; in particular, political parties will not be merged with\\nthe state. . .\"\\n\\n\". . . (7)  To ensure that the will of the people serves as\\nthe basis of the authority of government, the participating\\nstates will. . .\"\\n\\n\"(7.4) -- ensure . . . that (votes) are counted and reported\\nhonestly with the official results made public;\"\\n\\n\"(7.5) -- respect the right of citizens to seek political or public\\noffice, individually or as representatives of political parties or\\norganizations, without discrimination.\"\\n\\n\\n                RELEVANT SECTIONS OF THE\\n        INTERNATIONAL COVENANT OF 5 OCTOBER 1977\\n                    REFERENCED ABOVE\\n\\nThe States Parties to the present Covenant. . . Recognizing\\nthat. . . the ideal of free human beings enjoying civil and\\npolitical freedom and freedom from fear and want can only\\nbe achieved if conditions are created whereby everyone may\\nenjoy his civil and political rights, as well as his economic,\\nsocial, and cultural rights, Considering the obligation of\\nStates under the Charter of the United Nations to promote\\nuniversal respect for, and observance of, human rights and\\nfreedoms. . . Agree upon the following articles. . .\\n\\nArticle 2.  (1) Each State Party to the present Covenant\\nundertakes to respect and to ensure to all individuals within\\nits territory and subject to its jurisdiction the rights\\nrecognized in the present Covenant, without distinction of\\nany kind, such as race, colour, sex, language, religion,\\npolitical or other opinion, national or social origin, property,\\nbirth, or other status.\\n\\n(2)  Where not already provided for by existing legislative or\\nother measures, each State Party to the present Covenant\\nundertakes to take the necessary steps, in accordance with its\\nconstitutional processes and with the provisions of the\\npresent Covenant, to adopt such legislative or other measures\\nas may be necessary to give effect to the rights recognized in\\nthe present Covenant. . .\\n\\nArticle 3.  The States Parties to the present Covenant\\nundertake to ensure the equal right of men and women to\\nthe enjoyment of all civil and political rights set forth in the\\npresent Covenant. . .\\n\\nArticle 25.  Every citizen shall have the right and the\\nopportunity, without any of the distinctions mentioned in\\narticle 2 and without unreasonable restrictions:  (a) to take\\npart in the conduct of public affairs, directly or through\\nfreely chosen representatives; (b) to vote and to be elected at\\ngenuine periodic elections which shall be by universal and\\nequal suffrage and shall be held by secret ballot,\\nguaranteeing the free expression of the will of the electors; (c)\\nto have access, on general terms of equality, to public service\\nin his country.\\n\\nArticle 26.  All persons are equal before the law and are\\nentitled without any discrimination to the equal protection of\\nthe law.  In this respect, the law shall prohibit any\\ndiscrimination and guarantee to all persons equal and\\neffective protection against discrimination on any ground\\nsuch as race, colour, sex, language, religion, political or other\\nopinion, national or social origin, property, birth, or other\\nstatus.\\n\\n\\n\\n-+-+-+-+-+-+-+-+-+-+-+-+-+-+-+-+-+-+-+-+-+-+-+-+-+-+-+-+-\\nThere will be no peace without freedom.\\nThink Globally -- Act Locally.\\nResist Much.  Obey Little.\\nQuestion Authority.\\n\\nComments from Bob Waldrop are the responsibility of Bob\\nWaldrop!  For a good time call 415-457-6388.\\n\\nE-Mail:           Bob.Waldrop@f418.n104.z1.fidonet.org\\nSnail Mail:       P.O. Box 526175\\n                  Salt Lake City, Utah 84152-6175\\n                  United States of America\\nVoice Phone:      (801) 582-3318\\n-+-+-+-+-+-+-+-+-+-+-+-+-+-+-+-+-+-+-+-+-+-+-+-+-+-+-+-+-\\n\\n\\n\\nNewsgroups: alt.society.foia,alt.society.futures,alt.society.revolution,alt.society.sovereign,alt.suburbs,alt.sustainable.agriculture,alt.true-crime,alt.war,alt.whine,general\\nX-Sequence: 8\\nSubject: Celebrate Liberty!  1993\\nReply-To: Bob.Waldrop@f418.n104.z1.fidonet.org (Bob Waldrop)\\nFrom: Bob.Waldrop@f418.n104.z1.fidonet.org (Bob Waldrop)\\nSummary: \\nFollowup-To: talk.politics.misc\\nDistribution: world\\nOrganization: Morning Glory Productions, SLC, UT\\nX-Telephone: 801-582-3318\\nX-Us-Mail: P.O. Box 526175, Salt Lake City, UT 84152\\nKeywords: \\n\\nAnnouncing. . . Announcing. . . Announcing. . .Announcing. . .\\n\\n                             CELEBRATE LIBERTY!\\n                 1993 LIBERTARIAN PARTY NATIONAL CONVENTION\\n                             AND POLITICAL EXPO\\n\\n                   THE MARRIOTT HOTEL AND THE SALT PALACE\\n                            SALT LAKE CITY, UTAH\\n\\n                   INCLUDES INFORMATION ON DELEGATE DEALS!\\n                          (Back by Popular Demand!)\\n\\nThe convention will be held at the Salt Palace Convention Center and the\\nMarriott Hotel, Salt Lake City, Utah.  The business sessions, Karl Hess\\nInstitute, and Political Expo are at the Salt Palace; breakfasts, parties, and\\nbanquet are at the Marriott Hotel.\\n\\nMarriott Hotel room rates are $79.00 night, plus 10.5% tax ($87.17 total). \\nThis rate is good for one to four persons room occupancy.  Double is one\\nor two beds; 3 or 4 people is 2 beds.  You can make your reservations\\ndirect with the hotel (801-531-0800), or you can purchase your room\\nthrough one of MGP's payment plans.  MGP will provide assistance in\\nmatching roommates if requested.\\n\\n\\nAugust 30, 31, Sept. 1:           Everything You Always Wanted to\\n                                  Know About Winning Elections, but\\n                                  Didn't Know Where to Ask!\\n\\nThree days of intensive campaign training conducted by Sal Guzzetta, a\\n25 year veteran of more than 200 campaigns.  Students receive 990 pages\\nof professional campaign manuals.  Everything from strategy and\\ntargeting to opposition research, fundraising, and field operations.\\n\\nPrice:           $150 if purchased by May 1, 1993\\n                 $175 thereafter\\n\\nAugust 31 and Sept. 1:            Platform, Bylaws, Credentials and\\n                                  National committee meetings.\\n\\nShoot out in Salt Lake!  PLEDGE versus Committee for a Libertarian\\nMajority.  Will the party's membership and platform definitions change? \\nIs compromise possible?  The Platform and Bylaws committees are\\nresponsible for making recommendations to the convention concerning\\nchanges in those documents.  At this convention, the party will only\\nconsider deletions to the platform.  The Convention Rules would have to\\nbe amended by a 2/3 vote to change this rule.\\n\\nThe meetings are open to the public.  There is no charge for attending. \\n\\n\\nSept. 2-5, 1993: Celebrate Liberty! Begins\\n                 Political Expo Opens\\n\\nSept. 2, 1993:   9 AM -- Credentials Committee report to the delegates.\\n\\n                 10:30 -- Gala Opening Ceremony and Keynote Address\\n                 by Russell Means.  \\n\\n                 1:00 -- After lunch break, convention business continues\\n                 (see \"Standing Order of Business\" from the \"Convention\\n                 Rules of the Libertarian Party\" at the end of this\\n                 document.\\n\\n                 Karl Hess Institute of Libertarian Politics Begins, runs in\\n                 tandem with the business sessions.\\n\\nSept. 3, 1993:   Dawns Early Light, Green Dragon Inn (morning and\\n                 evening), with Karl Hess Institute and convention\\n                 business in between.\\n\\nSept. 4, 1993:   Dawns Early Light, Freedom Rock '93, Karl Hess\\n                 Institute, convention business.\\n\\nSept. 5, 1993:   Dawns Early Light, Convention Banquet, Karl Hess\\n                 Institute, convention business, Joyful Noise.\\n\\n\\n\\n                      ACTIVITY DESCRIPTIONS:\\n\\nDAWNS EARLY \\nLIGHT            Three great convention breakfasts to start your days\\n                 right, featuring science fiction author L. Neil Smith,\\n                 psychiatrist and author Dr. Thomas Szasz, and South\\n                 African Libertarian leader Frances Kendall.\\n\\nGREEN DRAGON \\nINN              \"Opening night\" party, named after the famous inn\\n                 where Sam Adams and his crowd plotted trouble for the\\n                 British over pints of ale and beer.  Music, food, drink,\\n                 and comedy.\\n\\nFREEDOM \\nROCK '93         Free downtown rock concert Friday night, with drum\\n                 circle, comic Tim Slagle, Middle Eastern dancer, reggae,\\n                 and local classic rock-n-roll bands.  Will be widely\\n                 publicized in the local area.  Major outreach opportunity.\\n\\nBANQUET          Vivaldi and Mozart, fine dining, in the elegant Marriott\\n                 Grand Ballroom (black tie optional).  Dancing follows.\\n\\nPOLITICAL \\nEXPO             Exhibits and vendors.  FREE admission.  Event will be\\n                 widely publicized in local area for maximum draw. \\n                 Major Outreach opportunity.\\n\\n\\n\\n                KARL HESS INSTITUTE OF LIBERTARIAN  POLITICS\\n\\n         Workshops, speakers, roundtable discussions in these areas:\\n\\nLIBERTY:  NEXT\\nGENERATION               High school and college age Libertarians talk\\n                         about what matters to them and the 20-\\n                         something generation.\\n\\nAGENDA 2000              Considers key issues of the 1990s.  Environment. \\n                         Health Care.  21st Century Economics.  Drug\\n                         War.  Second Amendment.  Social Services. \\n                         Foreign Policy.  Crime & Violence.  AIDS.\\n\\nTHE GREAT DEBATE         LP Strategy and tactics.  Media.  Ballot Access. \\n                         Initiatives.  Feminist Issues.  Presidential\\n                         Campaigns.  LP Elected Officials.  Grassroots. \\n                         Early look at the 1996 presidential nomination.\\n\\nVALUES FOR \\nTHE 90s                  Community.  Children.  Abundance.  Home\\n                         Schooling.  Religion and Liberty.  Race.\\n\\nCAMPUS FOCUS             Organizing.  Academia.  Blue Collar Youth.\\n\\n\\n\\n                 CONVENTION PACKAGE DESCRIPTIONS AND PRICES\\n\\nTOTAL EVENT:             All activities, Aug. 30-Sept. 5, $400, including 3\\n                         day candidate training\\n\\nFull Celebration:        All convention activities, Sept. 2-5, $300\\n\\nLate Riser               No breakfasts, everything else Sept. 2-5, $250\\n\\nThrift                   No breakfasts or banquet, $150\\n\\nIssues Focus             Karl Hess Institute, $125\\n\\nBasic                    Convention packet, souvenirs, two Karl Hess\\n                         Institute speakers\\n\\nFree                     Political Expo, Access to convention hall,\\n                         Keynote Address, Joyful Noise, Freedom Rock\\n                         '93, three free outreach speakers.\\n\\nPLEASE NOTE:\\n--       PRICES INCREASE MAY 1, 1993\\n--       Special student prices are available to anyone under 25 years of\\n         age or who is enrolled in a college or university.\\n\\n--       Six and seven month payment plans are available which can\\n         include housing (if requested).\\n\\n--       To add the three day candidate training to any package below\\n         (except \"Total Event\"), add $150 to the price.\\n\\n--       All prices are in U.S. dollars.\\n\\n--       Advertising is available in the convention program; exhibits and\\n         sponsorships are available for the Political Expo.  Free Political\\n         Expo admission and MGP promotions will draw visitors from the\\n         surrounding community (one million people live within a 30\\n         minute drive of the Expo).\\n\\n--       If your special interest group, organization, committee, or cause\\n         would like to schedule space for a presentation, contact us.\\n\\n--       MGP conducts a drawing each month and gives away FREE\\n         hotel nights.  The sooner you register, the more chances you have\\n         to win.\\n\\n--       Roommate match service available upon request.\\n\\n\\nOTHER EVENTS:\\n\"Anti-Federalist Two\"    MGP sponsored writing contest.  June\\n                         submission deadline.  Contact MGP for\\n                         prospectus.\\n\\n\"The Libertarian \\nGames\"                   Friendly competition -- marksmanship, computer\\n                         programming, chess, maybe more.\\n\\nLibertarians for Gay &\\nLesbian Concerns         Business meeting, social night, sponsored by\\n                         LGLC.\\n\\n???                      YOUR EVENT CAN BE LISTED HERE.  Contact\\n                         MGP for details.\\n\\n\\n\\n                         ATTENTION COLLEGE STUDENTS!\\n\\nSpecial discounts are available for college and high school students.  We\\nwill work on casual housing opportunities for the \"Poverty Caucus\". \\nCollege Libertarians will meet at Celebrate Liberty! and discuss the future\\nof their movement on campuses.  Contact MGP for more details.\\n\\n\\n\\n\\t\\t\\t   LIST OF SPEAKERS\\n\\t\\t       (as of March 14, 1993):\\n\\nDean Ahmad\\t\\tJim Hudler\\t\\tSheldon Richman\\nKaren Allard\\t\\tJeff Hummel\\t\\tKathleen Richman\\nRick Arnold\\t\\tAlexander Joseph\\tDan Rosenthal\\nDr. George Ayittey\\tFrances Kendall\\t\\tDr. Mary Ruwart\\nAlan Boch\\t\\tMartin Luther King\\tDagny Sharon\\nRichard Boddie\\t\\tMe-Me King\\t\\tJane Shaw\\nGus Dizerega\\t\\tHenry Lamb\\t\\tSandy Shaw\\nLarry Dodge\\t\\tAmy Lassen\\t\\tL. Neil Smith\\nDr. Richard Ebeling\\tScott Lieberman\\t\\tEric Sterling\\nDon Ernsberger\\t\\tDr. Nancy Lord\\t\\tDr. Richard Stroup\\nBill Evers\\t\\tRussell Means\\t\\tDr. Thomas Szasz\\nBonnie Flickenger\\tVince Miller\\t\\tMichael Tanner\\nJohn Fund\\t\\tMaury Modine\\t\\tSojourner Truth\\nDoris Gordon\\t\\tDavid Nolan\\t\\tYuri Tuvim\\nLeon Hadar\\t\\tRandall O'Toole\\t\\tBob Waldrop\\nPatrick Henry\\t\\tJames Ostrowski\\t\\tTerree Wasley\\nKarl Hess\\t\\tDirk Pearson\\t\\tPerry Willis\\nDr. Karl Hess Jr.\\tBob Poole\\t\\tRichard Winger\\nJacob Honrberger\\tCarole Ann Rand\\t\\tJarret Wollstein\\n\\t\\t\\t\\t\\t\\tBrigham Young\\n\\n\\n\\n\\t\\t  UPCOMING CONVENTION DEVELOPMENTS!\\n\\nOn May 1st, prices increase for convention packages, candidate training,\\nand exhibits/advertising:\\n\\nNew prices for convention packages will be:\\n\\nTotal Event:             $450\\nFull Celebration:        $350\\nLate Riser:              $275\\nThrift:                  $175\\nIssues Focus:            $150\\nBasic:                   $30\\nFree:                    $0\\n\\nThese prices good through July 2, 1993.\\n\\n\\n                          BACK BY POPULAR DEMAND!  \\n                       ANNOUNCING THE DELEGATE DEALS!\\n                            Available May 1, 1993\\n\\nI:       Business Focus:  All convention activities except Karl Hess\\n         Institute -- $275\\n\\nII:      Delegate Celebration, includes a complete set of Karl Hess\\n         Institute audio tapes instead of institute tickets -- $350\\n\\n\\n\\n                       STANDING ORDER OF BUSINESS FOR\\n                       A LIBERTARIAN PARTY CONVENTION\\n \\n     1. Call to order\\n \\n     2. Credentials Committee report\\n \\n     3. Adoption of agenda\\n \\n     4. Treasurer's report\\n \\n     5. Bylaws and Rules Committee report (Non-nominating conventions\\n        only)\\n \\n     6. Platform Committee report (At non-Presidential nominating\\n        conventions only deletions may be considered.)\\n \\n     7. Nomination of Party candidates for President and\\n        Vice-President (in appropriate years)\\n \\n     8. Election of Party Officers and at-large members\\n        of the National Committee\\n \\n     9. Election of Judicial Committee\\n \\n     10. Resolutions\\n \\n     11. Other business\\n\\n\\n\\n                         FOR QUESTIONS OR COMMENTS,\\n\\n                             GRUMBLES OR GRINS,\\n\\n                          SUGGESTIONS OR CRITICISM,\\n\\n                                     AND\\n\\n                                TO REGISTER,\\n\\n                                  CONTACT:\\n\\n                       MORNING GLORY PRODUCTIONS, INC.\\n                               P.O. Box 526175\\n                          Salt Lake City, UT  84152\\n                                801.582.3318\\n                E-mail: Bob.Waldrop@f418.n104.z1.fidonet.org\\n\\n           Make Checks Payable to Morning Glory Productions, Inc.\\n-- \\n\\t\\t      Don't blame me; I voted Libertarian.\\nDisclaimer: I speak for myself, except as noted; Copyright 1993 Rich Thomson\\nUUCP: ...!uunet!dsd.es.com!rthomson\\t\\t\\tRich Thomson\\nInternet: rthomson@dsd.es.com\\tIRC: _Rich_\\t\\tPEXt Programmer\\n    3\n",
       "Xref: cantaloupe.srv.cs.cmu.edu talk.politics.china:5109 talk.politics.cis:64 talk.politics.drugs:13525 talk.politics.guns:53305 talk.politics.mideast:75375 talk.politics.misc:176873 talk.politics.soviet:22960 talk.politics.space:2657\\nNewsgroups: talk.politics.china,talk.politics.cis,talk.politics.drugs,talk.politics.guns,talk.politics.mideast,talk.politics.misc,talk.politics.soviet,talk.politics.space\\nPath: cantaloupe.srv.cs.cmu.edu!crabapple.srv.cs.cmu.edu!fs7.ece.cmu.edu!europa.eng.gtefsd.com!emory!wupost!uunet!orca!mesa!rthomson\\nFrom: Bob.Waldrop@f418.n104.z1.fidonet.org (Bob Waldrop)\\nSubject: PUBLIC HEARINGS on Ballot Access, Vote Fraud and Other Issues\\nMessage-ID: <1993Apr5.200958.15654@dsd.es.com>\\nFollowup-To: talk.politics.misc\\nOriginator: rthomson@mesa\\nX-Sequence: 8\\nSender: usenet@dsd.es.com\\nNntp-Posting-Host: 130.187.85.21\\nReply-To: Bob.Waldrop@f418.n104.z1.fidonet.org (Bob Waldrop)\\nX-Us-Mail: P.O. Box 526175, Salt Lake City, UT 84152\\nX-Telephone: 801-582-3318\\nOrganization: Morning Glory Productions, SLC, UT\\nDate: Mon, 5 Apr 93 20:09:58 GMT\\nLines: 274\\n\\n-+-+-+-+-+-+-+-+-+-+-+-+-+-+-+-+-+-+-+-+-+-+-+-+-+-+-+-+-+-+-\\n Announcing. . . Announcing. . . Announcing. . . Announcing\\n-+-+-+-+-+-+-+-+-+-+-+-+-+-+-+-+-+-+-+-+-+-+-+-+-+-+-+-+-+-+-\\n\\n                     PUBLIC HEARINGS\\n\\n                on the compliance by the \\n\\n                UNITED STATES GOVERNMENT\\n\\n          and the governments of the states of\\n\\n         FLORIDA, LOUISIANA, ARKANSAS, MISSOURI,\\n         WEST VIRGINIA, NORTH CAROLINA, INDIANA,\\n          MARYLAND, OKLAHOMA, NEVADA, WYOMING,\\n                   GEORGIA, AND MAINE\\n\\n      with Certain International Agreements Signed\\n     by the United States Government, in particular,\\n\\n           THE INTERNATIONAL COVENANT ON CIVIL\\n                  AND POLITICAL RIGHTS\\n                 (signed 5 October 1977)\\n\\n                         and the\\n\\n        DOCUMENT OF THE COPENHAGEN MEETING OF THE\\n        CONFERENCE ON THE HUMAN DIMENSION OF THE\\n         CONFERENCE ON SECURITY AND COOPERATION\\n                        IN EUROPE\\n                       (June 1990)\\n\\n                 A Democracy Project of\\n\\n                   CELEBRATE LIBERTY!\\n        THE 1993 LIBERTARIAN NATIONAL CONVENTION\\n                   AND POLITICAL EXPO\\n\\n                     Sept. 2-5, 1993\\n              Salt Palace Convention Center\\n                     Marriott Hotel\\n                  Salt Lake City, Utah\\n\\n-+-+-+-+-+-+-+-+-+-+-+-+-+-+-+-+-+-+-+-+-+-+-+-+-+-+-+-+-\\n-+-+-+-+-+-+-+-+-+-+-+-+-+-+-+-+-+-+-+-+-+-+-+-+-+-+-+-+-\\n                            \\nThese hearings will investigate charges that the governments\\nreferenced above routinely violate the political and\\ndemocratic rights of political minority parties.  Persons\\ninterested in testifying at these hearings, or in submitting\\nwritten or documentary evidence, should contact:\\n\\n                       Bob Waldrop\\n                     P.O. Box 526175\\n                Salt Lake City, UT  84152\\n                     (801)-582-3318\\n          Bob.Waldrop@f418.n104.z1.fidonet.org\\n\\nExamples of possible information of interest includes\\nevidence and testimony regarding: \\n\\n(1)   Unfair or unequal treatment of political minorities;\\n\\n(2)   Physical assaults on volunteers, candidates, or\\n      members of minority parties;\\n\\n(3)   Arrests of minority party petitioners, candidates, or\\n      members while engaged in political activity;\\n\\n(4)   Structural barriers to organizing third parties and/or\\n      running for office as anything other than a Democrat\\n      or Republican (e.g. signature totals required for\\n      petitions to put new parties and candidates on ballots,\\n      requirements for third parties that Democrats and\\n      Republicans are not required to meet, etc.);\\n\\n(5)   Taxpayer subsidies of Democratic and Republican\\n      candidates that are denied or not available to third\\n      parties;\\n\\n(6)   Fraudulent or non-reporting of minority party vote\\n      totals (e.g. stating totals for Democratic and\\n      Republican party candidates as equal to 100% of the\\n      vote);\\n\\n(7)   Refusals by state legislatures, governors, and courts to\\n      hear petitions for redress of grievances from third\\n      parties, and/or unfavorable rulings/laws\\n      discriminating against third parties;\\n\\n(8)   Refusal to allow registration as a member of a third\\n      party when registering to vote (in states where\\n      partisan voter registration is optional or required);\\n\\n(9)   Vote fraud, stuffing ballot boxes, losing ballots, fixing\\n      elections, threatening candidates, ballot printing errors;\\n      machine voting irregularities, dishonest/corrupt\\n      election officials, refusal to register third party voters\\n      or allow filing by third party candidates; failure to\\n      print third party registration options on official voter\\n      registration documents; intimidation of third party\\n      voters and/or candidates; and/or any other criminal\\n      acts by local, county, state or federal election officials;\\n\\n(10)  Exclusion of third party candidates from debate\\n      forums sponsored by public schools, state colleges and\\n      universities, and governments (including events\\n      carried on television and radio stations owned and/or\\n      subsidized by governments;\\n\\n(11)  Any other information relevant to the topic.\\n\\nInformation is solicited about incidents relating to all non-\\nDemocratic and non-Republican political parties, such as\\nLibertarian, New Alliance, Socialist Workers Party, Natural\\nLaw Party, Taxpayers, Populist, Consumer, Green, American,\\nCommunist, etc., as well as independent candidates such as\\nJohn Anderson, Ross Perot, Eugene McCarthy, Barry\\nCommoner, etc.\\n\\n\\n-+-+-+-+-+-+-+-+-+-+-+-+-+-+-+-+-+-+-+-+-+-+-+-+-+-+-+-+-\\n-+-+-+-+-+-+-+-+-+-+-+-+-+-+-+-+-+-+-+-+-+-+-+-+-+-+-+-+-\\n\\nRepresentatives of the governments referenced above will be\\ninvited to respond to any allegations.\\n\\n-+-+-+-+-+-+-+-+-+-+-+-+-+-+-+-+-+-+-+-+-+-+-+-+-+-+-+-+-\\n-+-+-+-+-+-+-+-+-+-+-+-+-+-+-+-+-+-+-+-+-+-+-+-+-+-+-+-+-\\n\\n\\n        RELEVANT SECTIONS OF THE DOCUMENT OF THE\\n          COPENHAGEN MEETING REFERENCED ABOVE:\\n\\n\"(The participating States) recognize that pluralistic\\ndemocracy and the rule of law are essential for ensuring\\nrespect for all human rights and fundamental freedoms. . .\\nThey therefore welcome the commitment expressed by all\\nparticipating States to the ideals of democracy and political\\npluralism. . . The participating States express their conviction\\nthat full respect for human rights and fundamental freedoms\\nand the development of societies based on pluralistic\\ndemocracy. . . are prerequisites for progress in setting up the\\nlasting order of peace, security, justice, and co-operation. . .\\nThey therefore reaffirm their commitment to implement fully\\nall provisions of the Final Act and of the other CSCE\\ndocuments relating to the human dimension. . . In order to\\nstrengthen respect for, and enjoyment of, human rights and\\nfundamental freedoms, to develop human contacts and to\\nresolve issues of a related humanitarian character, the\\nparticipating States agree on the following. . .\\n\\n\"(2). . . They consider that the rule of law does not mean\\nmerely a formal legality which assures regularity and\\nconsistency in the achievement and enforcement of\\ndemocratic order, but justice based on the recognition and\\nfull acceptance of the supreme value of the human\\npersonality and guaranteed by institutions providing a\\nframework for its fullest expression.\"\\n      \\n\"(3)  They reaffirm that democracy is an inherent element of\\nthe rule of law.  They recognize the importance of pluralism\\nwith regard to political organizations.\"\\n\\n\"(4)  They confirm that they will respect each other's right\\nfreely to choose and develop, in accordance with\\ninternational human rights standards, their political, social,\\neconomic and cultural systems.  In exercising this right, they\\nwill ensure that their laws, regulations, practices, and policies\\nconform with their obligations under international law and\\nare brought into harmony with the provisions of the\\nDeclaration on Principles and other CSCE commitments.\"\\n\\n\"(5)  They solemnly declare that among those elements of\\njustice which are essential to the full expression of the\\ninherent dignity and of the equal and inalienable rights of all\\nhuman beings are the following. . .\"\\n\\n\". . . (5.4) -- a clear separation between the State and political\\nparties; in particular, political parties will not be merged with\\nthe state. . .\"\\n\\n\". . . (7)  To ensure that the will of the people serves as\\nthe basis of the authority of government, the participating\\nstates will. . .\"\\n\\n\"(7.4) -- ensure . . . that (votes) are counted and reported\\nhonestly with the official results made public;\"\\n\\n\"(7.5) -- respect the right of citizens to seek political or public\\noffice, individually or as representatives of political parties or\\norganizations, without discrimination.\"\\n\\n\\n                RELEVANT SECTIONS OF THE\\n        INTERNATIONAL COVENANT OF 5 OCTOBER 1977\\n                    REFERENCED ABOVE\\n\\nThe States Parties to the present Covenant. . . Recognizing\\nthat. . . the ideal of free human beings enjoying civil and\\npolitical freedom and freedom from fear and want can only\\nbe achieved if conditions are created whereby everyone may\\nenjoy his civil and political rights, as well as his economic,\\nsocial, and cultural rights, Considering the obligation of\\nStates under the Charter of the United Nations to promote\\nuniversal respect for, and observance of, human rights and\\nfreedoms. . . Agree upon the following articles. . .\\n\\nArticle 2.  (1) Each State Party to the present Covenant\\nundertakes to respect and to ensure to all individuals within\\nits territory and subject to its jurisdiction the rights\\nrecognized in the present Covenant, without distinction of\\nany kind, such as race, colour, sex, language, religion,\\npolitical or other opinion, national or social origin, property,\\nbirth, or other status.\\n\\n(2)  Where not already provided for by existing legislative or\\nother measures, each State Party to the present Covenant\\nundertakes to take the necessary steps, in accordance with its\\nconstitutional processes and with the provisions of the\\npresent Covenant, to adopt such legislative or other measures\\nas may be necessary to give effect to the rights recognized in\\nthe present Covenant. . .\\n\\nArticle 3.  The States Parties to the present Covenant\\nundertake to ensure the equal right of men and women to\\nthe enjoyment of all civil and political rights set forth in the\\npresent Covenant. . .\\n\\nArticle 25.  Every citizen shall have the right and the\\nopportunity, without any of the distinctions mentioned in\\narticle 2 and without unreasonable restrictions:  (a) to take\\npart in the conduct of public affairs, directly or through\\nfreely chosen representatives; (b) to vote and to be elected at\\ngenuine periodic elections which shall be by universal and\\nequal suffrage and shall be held by secret ballot,\\nguaranteeing the free expression of the will of the electors; (c)\\nto have access, on general terms of equality, to public service\\nin his country.\\n\\nArticle 26.  All persons are equal before the law and are\\nentitled without any discrimination to the equal protection of\\nthe law.  In this respect, the law shall prohibit any\\ndiscrimination and guarantee to all persons equal and\\neffective protection against discrimination on any ground\\nsuch as race, colour, sex, language, religion, political or other\\nopinion, national or social origin, property, birth, or other\\nstatus.\\n\\n\\n\\n-+-+-+-+-+-+-+-+-+-+-+-+-+-+-+-+-+-+-+-+-+-+-+-+-+-+-+-+-\\nThere will be no peace without freedom.\\nThink Globally -- Act Locally.\\nResist Much.  Obey Little.\\nQuestion Authority.\\n\\nComments from Bob Waldrop are the responsibility of Bob\\nWaldrop!  For a good time call 415-457-6388.\\n\\nE-Mail:           Bob.Waldrop@f418.n104.z1.fidonet.org\\nSnail Mail:       P.O. Box 526175\\n                  Salt Lake City, Utah 84152-6175\\n                  United States of America\\nVoice Phone:      (801) 582-3318\\n-+-+-+-+-+-+-+-+-+-+-+-+-+-+-+-+-+-+-+-+-+-+-+-+-+-+-+-+-\\n\\n\\n\\n-- \\n\\t\\t      Don't blame me; I voted Libertarian.\\nDisclaimer: I speak for myself, except as noted; Copyright 1993 Rich Thomson\\nUUCP: ...!uunet!dsd.es.com!rthomson\\t\\t\\tRich Thomson\\nInternet: rthomson@dsd.es.com\\tIRC: _Rich_\\t\\tPEXt Programmer\\n                                                                                                                                                                                                                                                                                                                                                                                                                                                                                                                                                                                                                                                                                                                                                                                                                                                                                                                                                                                                                                                                                                                                                                                                                                                                                                                                                                                                                                                                                                                                                                                                                                                                                                                                                                                                                                                                                                                                                                                                                                                                                                                                                                                                                                                                                                                                                                                                                                                                                                                                                                                                                                                                                                                                                                                                                                                                                                                                                                                                                                                                                                                                                                                                                                                                                                                                                                                                                                                                                                                                                                                                                                                                                                                                                                                                                                                                                                                                                                                                                                                                                                                                                                                                                                                                                                                                                                                                                                                                                                                                                                                                                                                                                                                                                                                                                                                                                                                                                                                                                                                                                                                                                                                                                                                                                                                                                                                                                                                                                                                                                                                                                                                                                                                                                                                                                                                                                                                                                                                                                                                                                                                                                                                                                                                                                                                                                                                                                                                                                                                                                                                                                                                                                                                                                                                                                                                                                                                                                                                                                                                                                                                                                                                                                                                                                                                                                                                                                                                                                                                                                                                                                                                                                                                                                                                                                                                                                                                                                                                                                                                                                                                                                                                                                                                                                                                                                                                                                                                                                                                                                                                                                                                                                                                                                                                                                                                                                                                                                                                                                                                                                                                                                                                                                                                                                                                                                                                                                                                                                                                                                                                                                                                                                                                                                                                                                                                                                                                                                                                                                                                                                                                                                                                                                                                                                                                                                                                                                                                                                                                                                                                                                                                                                                                                                                                                                                                                                                                                                                                                                                                                                                                                                                                                                                                                                                                                                                                                                                                                                                                                                                                                                                                                                                                                                                                                                                                                                                                                                                                                                                                                                                                                                                                                                                                                                                                                                                                                                                                                                                                                                                                                                                                                                                                                                                                                                                                                                                                                                                                                                                                                                 3\n",
       "Xref: cantaloupe.srv.cs.cmu.edu talk.politics.drugs:13607 talk.politics.guns:54161 talk.politics.mideast:75906 talk.politics.misc:178350 alt.politics.usa.misc:2810\\nNewsgroups: talk.politics.drugs,talk.politics.guns,talk.politics.mideast,talk.politics.misc,alt.politics.usa.misc\\nPath: cantaloupe.srv.cs.cmu.edu!rochester!udel!gatech!purdue!news.cs.indiana.edu!hagerp@cs.indiana.edu\\nFrom: \"Paul Hager\" <hagerp@cs.indiana.edu>\\nSubject: Re: Needs information on BCCI scandal\\nMessage-ID: <1993Apr15.143225.16738@news.cs.indiana.edu>\\nOrganization: Computer Science, Indiana University\\nReferences: <1qhfai$cre@spock.dis.cccd.edu>\\nDate: Thu, 15 Apr 1993 14:32:18 -0500\\nLines: 20\\n\\nrichardp@spock.dis.cccd.edu (Richard Patterson) writes:\\n\\n>Need reference material on any connections between BCCI and the CIA.  Also\\n>any information on BCCI's money laundring, drug and arms dealings.\\n\\n>Refernces must be published in mews media or similar printed media.  \\n>Please provide the name and date of the reference.\\n\\n>Thank you for your time and assistance.\\n\\nHow about connections between BCCI and TCI?  Reference to the BCCI\\nmoney laundering appears in an insert in an article about the TCI\\ncable company and its sharp -- and possibly illegal -- business\\npractices.  The article is in the 27-Jan-92 issue of the Wall Street\\nJournal.\\n-- \\npaul hager\\t\\thagerp@moose.cs.indiana.edu\\n\\n\"It is error alone which needs the support of government.\\nTruth can stand by itself.\"\\t--Thomas Jefferson\\n                                                                                                                                                                                                                                                                                                                                                                                                                                                                                                                                                                                                                                                                                                                                                                                                                                                                                                                                                                                                                                                                                                                                                                                                                                                                                                                                                                                                                                                                                                                                                                                                                                                                                                                                                                                                                                                                                                                                                                                                                                                                                                                                                                                                                                                                                                                                                                                                                                                                                                                                                                                                                                                                                                                                                                                                                                                                                                                                                                                                                                                                                                                                                                                                                                                                                                                                                                                                                                                                                                                                                                                                                                                                                                                                                                                                                                                                                                                                                                                                                                                                                                                                                                                                                                                                                                                                                                                                                                                                                                                                                                                                                                                                                                                                                                                                                                                                                                                                                                                                                                                                                                                                                                                                                                                                                                                                                                                                                                                                                                                                                                                                                                                                                                                                                                                                                                                                                                                                                                                                                                                                                                                                                                                                                                                                                                                                                                                                                                                                                                                                                                                                                                                                                                                                                                                                                                                                                                                                                                                                                                                                                                                                                                                                                                                                                                                                                                                                                                                                                                                                                                                                                                                                                                                                                                                                                                                                                                                                                                                                                                                                                                                                                                                                                                                                                                                                                                                                                                                                                                                                                                                                                                                                                                                                                                                                                                                                                                                                                                                                                                                                                                                                                                                                                                                                                                                                                                                                                                                                                                                                                                                                                                                                                                                                                                                                                                                                                                                                                                                                                                                                                                                                                                                                                                                                                                                                                                                                                                                                                                                                                                                                                                                                                                                                                                                                                                                                                                                                                                                                                                                                                                                                                                                                                                                                                                                                                                                                                                                                                                                                                                                                                                                                                                                                                                                                                                                                                                                                                                                                                                                                                                                                                                                                                                                                                                                                                                                                                                                                                                                                                                                                                                                                                                                                                                                                                                                                                                                                                                                                                                                                                                                                                                                                                                                                                                                                                                                                                                                                                                                                                                                                                                                                                                                                                                                                                                                                                                                                                                                                                                                                                                                                                                                                                                                                                                                                                                                                                                                                                                                                                                                                                                                                                                                                                                                                                                                                                                                                                                                                                                                                                                                                                                                                                                                                                                                                                                                                                                                                                                                                                                                                                                                                                                                                                                                                                                                                                                                                                                                                                                                                                                                                                                                                                                                                                                                                                                                                                                                                                                                                                                                                                                                                                                                                                                                                                                                                                                                                                                                                                                                                                                                                                                                                                                                                                                                                                                                                                                                                                                                                                                                                                                                                                                                                                                                                                                                                                                                                                                                                                                                                                                                                                                                                                                                                                                                                                                                                                                                                                                                                                                                                                                                                                                                                                                                                                                                                                                                                                                                                                                                                                                                                                                                                                                                                                                                                                                                                                                                                                                                                                                                                                                                                                                                                                                                                                                                                                                                                                                                                                                                                                                                                                                                                                                                                                                                                                                                                                                                                                                                                                                                                                                                                                                                                                                                                                                                                                                                                                                                                                                                                                                                                                                                                                                                                                                                                                                                                                                                                                                                                                                                                                                                                                                                                                                                                                                                                                                                                                                                                                                                                                                                                                                                                                                                                                                                                                                                                                                                                                                                                                                                                                                                                                                                                                                                                                                                                                                                                                                                                                                                                                                                                                                                                                                                                                                                                                                                                                                                                                                                                                                                                                                                                                                                                                                                                                                                                                                                                                                                                                                                                                                                                                                                                                                                                                                                                                                                                                                                                                                                                                                                                                                                     3\n",
       "                                                                                                                                                                                                                                                                                                                                                                                                                                                                                                                                                                                                                                                                                                                                                                                                                                                                                                                                                                                                                                                                                                                                                                                                                                                                                                                                                                                                                                                                                                                                                                                                                                                                                                                                                                                                                                                                                                                                                                                                                                                                                                                                                                                                                                                                                                                                                                                                                                                                                                                                                                                                                                                                                                                                                                                                                                                                                                                                                                                                                                                                                                                                                                                                                                                                                                                                                                                                                                                                                                                                                                                                                                                                                                                                                                                                                                                                                                                                                                                                                                                                                                                                                                                                                                                                                                                                                                                                                                                                                                                                                                                                                                                                                                                                                                                                                                                                                                                                                                                                                                                                                                                                                                                                                                                                                                                                                                                                                                                                                                                                                                                                                                                                                                                                                                                                                                                                                                                                                                                                                                                                                                                                                                                                                                                                                                                                                                                                                                                                                                                                                                                                                                                                                                                                                                                                                                                                                                                                                                                                                                                                                                                                                                                                                                                                                                                                                                                                                                                                                                                                                                                                                                                                                                                                                                                                                                                                                                                                                                                                                                                                                                                                                                                                                                                                                                                                                                                                                                                                                                                                                                                                                                                                                                                                                                                                                                                                                                                                                                                                                                                                                                                                                                                                                                                                                                                                                                                                                                                                                                                                                                                                                                                                                                                                                                                                                                                                                                                                                                                                                                                                                                                                                                                                                                                                                                                                                                                                                                                                                                                                                                                                                                                                                                                                                                                                                                                                                                                                                                                                                                                                                                                                                                                                                                                                                                                                                                                                                                                                                                                                                                                                                                                                                                                                                                                                                                                                                                                                                                                                                                                                                                                                                                                                                                                                                                                                                                                                                                                                                                                                                                                                                                                                                                                                                                                                                                                                                                                                                                                                                                                                                                                                                                                                                                                                                                                                                                                                                                                                                                                                                                                                                                                                                                                                                                                                                                                                                                                                                                                                                                                                                                                                                                                                                                                                                                                                                                                                                                                                                                                                                                                                                                                                                                                                                                                                                                                                                                                                                                                                                                                                                                                                                                                                                                                                                                                                                                                                                                                                                                                                                                                                                                                                                                                                                                                                                                                                                                                                                                                                                                                                                                                                                                                                                                                                                                                                                                                                                                                                                                                                                                                                                                                                                                                                                                                                                                                                                                                                                                                                                                                                                                                                                                                                                                                                                                                                                                                                                                                                                                                                                                                                                                                                                                                                                                                                                                                                                                                                                                                                                                                                                                                                                                                                                                                                                                                                                                                                                                                                                                                                                                                                                                                                                                                                                                                                                                                                                                                                                                                                                                                                                                                                                                                                                                                                                                                                                                                                                                                                                                                                                                                                                                                                                                                                                                                                                                                                                                                                                                                                                                                                                                                                                                                                                                                                                                                                                                                                                                                                                                                                                                                                                                                                                                                                                                                                                                                                                                                                                                                                                                                                                                                                                                                                                                                                                                                                                                                                                                                                                                                                                                                                                                                                                                                                                                                                                                                                                                                                                                                                                                                                                                                                                                                                                                                                                                                                                                                                                                                                                                                                                                                                                                                                                                                                                                                                                                                                                                                                                                                                                                                                                                                                                                                                                                                                                                                                                                                                                                                                                                                                                                                                                                                                                                                                                                                                                                                                                                                                                                                                                                                                                                                                                                                                                                                                                                                                                                                                                                                                                                                                                                                                                                                                                                                                                                                                                                                                                                                                                                                                                                                                                                                                                                                                                                                                                                                                                                                                                                                                                                                                                                                                                                                                                                                                                                                                                                                                                                                                                                                                                                                                                                                                                                                                               ..\n",
       "Path: cantaloupe.srv.cs.cmu.edu!magnesium.club.cc.cmu.edu!news.sei.cmu.edu!cis.ohio-state.edu!zaphod.mps.ohio-state.edu!saimiri.primate.wisc.edu!zazen!uwec.edu!fioranvj\\nFrom: fioranvj@cnsvax.uwec.edu\\nNewsgroups: misc.forsale\\nSubject: WANTED: GN'R pay per view from Paris\\nMessage-ID: <1993Apr24.145911.6410@cnsvax.uwec.edu>\\nDate: 24 Apr 93 14:59:11 -0600\\nOrganization: University of Wisconsin Eau Claire\\nLines: 3\\n\\nI am trying to obtain a HI-FI copy of Guns N' Roses pay per view last\\nsummer from Paris.  If anyone has a copy they would like to sell, or\\ncould make me a copy, please e-mail me.  Thanks\\n                                                                                                                                                                                                                                                                                                                                                                                                                                                                                                                                                                                                                                                                                                                                                                                                                                                                                                                                                                                                                                                                                                                                                                                                                                                                                                                                                                                                                                                                                                                                                                                                                                                                                                                                                                                                                                                                                                                                                                                                                                                                                                                                                                                                                                                                                                                                                                                                                                                                                                                                                                                                                                                                                                                                                                                                                                                                                                                                                                                                                                                                                                                                                                                                                                                                                                                                                                                                                                                                                                                                                                                                                                                                                                                                                                                                                                                                                                                                                                                                                                                                                                                                                                                                                                                                                                                                                                                                                                                                                                                                                                                                                                                                                                                                                                                                                                                                                                                                                                                                                                                                                                                                                                                                                                                                                                                                                                                                                                                                                                                                                                                                                                                                                                                                                                                                                                                                                                                                                                                                                                                                                                                                                                                                                                                                                                                                                                                                                                                                                                                                                                                                                                                                                                                                                                                                                                                                                                                                                                                                                                                                                                                                                                                                                                                                                                                                                                                                                                                                                                                                                                                                                                                                                                                                                                                                                                                                                                                                                                                                                                                                                                                                                                                                                                                                                                                                                                                                                                                                                                                                                                                                                                                                                                                                                                                                                                                                                                                                                                                                                                                                                                                                                                                                                                                                                                                                                                                                                                                                                                                                                                                                                                                                                                                                                                                                                                                                                                                                                                                                                                                                                                                                                                                                                                                                                                                                                                                                                                                                                                                                                                                                                                                                                                                                                                                                                                                                                                                                                                                                                                                                                                                                                                                                                                                                                                                                                                                                                                                                                                                                                                                                                                                                                                                                                                                                                                                                                                                                                                                                                                                                                                                                                                                                                                                                                                                                                                                                                                                                                                                                                                                                                                                                                                                                                                                                                                                                                                                                                                                                                                                                                                                                                                                                                                                                                                                                                                                                                                                                                                                                                                                                                                                                                                                                                                                                                                                                                                                                                                                                                                                                                                                                                                                                                                                                                                                                                                                                                                                                                                                                                                                                                                                                                                                                                                                                                                                                                                                                                                                                                                                                                                                                                                                                                                                                                                                                                                                                                                                                                                                                                                                                                                                                                                                                                                                                                                                                                                                                                                                                                                                                                                                                                                                                                                                                                                                                                                                                                                                                                                                                                                                                                                                                                                                                                                                                                                                                                                                                                                                                                                                                                                                                                                                                                                                                                                                                                                                                                                                                                                                                                                                                                                                                                                                                                                                                                                                                                                                                                                                                                                                                                                                                                                                                                                                                                                                                                                                                                                                                                                                                                                                                                                                                                                                                                                                                                                                                                                                                                                                                                                                                                                                                                                                                                                                                                                                                                                                                                                                                                                                                                                                                                                                                                                                                                                                                                                                                                                                                                                                                                                                                                                                                                                                                                                                                                                                                                                                                                                                                                                                                                                                                                                                                                                                                                                                                                                                                                                                                                                                                                                                                                                                                                                                                                                                                                                                                                                                                                                                                                                                                                                                                                                                                                                                                                                                                                                                                                                                                                                                                                                                                                                                                                                                                                                                                                                                                                                                                                                                                                                                                                                                                                                                                                                                                                                                                                                                                                                                                                                                                                                                                                                                                                                                                                                                                                                                                                                                                                                                                                                                                                                                                                                                                                                                                                                                                                                                                                                                                                                                                                                                                                                                                                                                                                                                                                                                                                                                                                                                                                                                                                                                                                                                                                                                                                                                                                                                                                                                                                                                                                                                                                                                                                                                                                                                                                                                                                                                                                                                                                                                                                                            1\n",
       "Xref: cantaloupe.srv.cs.cmu.edu rec.photo:58492 rec.video:46378 misc.forsale:76444\\nPath: cantaloupe.srv.cs.cmu.edu!crabapple.srv.cs.cmu.edu!bb3.andrew.cmu.edu!news.sei.cmu.edu!fs7.ece.cmu.edu!europa.eng.gtefsd.com!darwin.sura.net!dtix.dt.navy.mil!oasys!goldberg\\nFrom: goldberg@oasys.dt.navy.mil (Mark Goldberg)\\nNewsgroups: rec.photo,rec.video,misc.forsale,dc.forsale\\nSubject: Camera bags for sale\\nMessage-ID: <34667@oasys.dt.navy.mil>\\nDate: 21 Apr 93 20:37:52 GMT\\nReply-To: goldberg@oasys.dt.navy.mil (Mark Goldberg)\\nFollowup-To: rec.photo\\nDistribution: usa\\nOrganization: Naval Surface Warfare Center, Annapolis, MD\\nLines: 43\\n\\n\\n    1. Large padded Cordura bag (maker unknown) nge exterior, black\\n\\t straps and interior.  Five outside pocket plus lid compartment.\\n\\t Lid overlaps.  Internal dividers can be repositioned.  Held\\n\\t my whole 2-1/4 Bronica system, Metz flash, etc. $50.\\n\\n    2. Small \"Nikon\" shoulder bag. SORRY.  SOLD & SHIPPE.\\n\\n    3. Small \"Nikon\" belt pouch.  Khaki like #2.  Similar in design\\n\\t Army ammo pouch - belt clips, etc.  Holds flash or small\\n\\t zoom, lens cleaner, etc.  $5.\\n\\n    4. Domke belt pouch, black.  Also has metal loops of you want to\\n\\t attach strap.  Velcro closure.  Similar to #3 in concept, but\\n\\t bigger.  Holds 35-135 zoom or flash, small accessories, etc.\\n\\t Hardly used; cost me $20 originally - will sell for $15.\\n\\n    5. Coast camera bag - tan with brown strap.  Main and front pocket.\\n\\t Can hold AF slr with small zoom plus flash, film, etc.  Matl\\n\\t looks like Gore-Tex but I don't think it really is. $15.\\n\\n\\n\\nTERMS:  Payment in advance by money order/bank check, or cash.  Buyer\\npays shipping.  #1 must go UPS.  For the others, send me an adequate\\nself addressed mailing envelope (padded recommended) with enough postage.\\n   /|/| /||)|/  /~ /\\| |\\|)[~|)/~   |   Everyone's entitled to MY opinion.\\n  / | |/ ||\\|\\  \\_|\\/|_|/|)[_|\\\\_|  |      goldberg@oasys.dt.navy.mil\\n========Imagination is more important than knowledge. - Albert Einstein=======\\n\\n\\n\\n\\n\\n\\n   /|/| /||)|/  /~ /\\| |\\|)[~|)/~   |   Everyone's entitled to MY opinion.\\n  / | |/ ||\\|\\  \\_|\\/|_|/|)[_|\\\\_|  |      goldberg@oasys.dt.navy.mil\\n========Imagination is more important than knowledge. - Albert Einstein=======\\n\\n\\n\\n\\n\\n                                                                                                                                                                                                                                                                                                                                                                                                                                                                                                                                                                                                                                                                                                                                                                                                                                                                                                                                                                                                                                                                                                                                                                                                                                                                                                                                                                                                                                                                                                                                                                                                                                                                                                                                                                                                                                                                                                                                                                                                                                                                                                                                                                                                                                                                                                                                                                                                                                                                                                                                                                                                                                                                                                                                                                                                                                                                                                                                                                                                                                                                                                                                                                                                                                                                                                                                                                                                                                                                                                                                                                                                                                                                                                                                                                                                                                                                                                                                                                                                                                                                                                                                                                                                                                                                                                                                                                                                                                                                                                                                                                                                                                                                                                                                                                                                                                                                                                                                                                                                                                                                                                                                                                                                                                                                                                                                                                                                                                                                                                                                                                                                                                                                                                                                                                                                                                                                                                                                                                                                                                                                                                                                                                                                                                                                                                                                                                                                                                                                                                                                                                                                                                                                                                                                                                                                                                                                                                                                                                                                                                                                                                                                                                                                                                                                                                                                                                                                                                                                                                                                                                                                                                                                                                                                                                                                                                                                                                                                                                                                                                                                                                                                                                                                                                                                                                                                                                                                                                                                                                                                                                                                                                                                                                                                                                                                                                                                                                                                                                                                                                                                                                                                                                                                                                                                                                                                                                                                                                                                                                                                                                                                                                                                                                                                                                                                                                                                                                                                                                                                                                                                                                                                                                                                                                                                                                                                                                                                                                                                                                                                                                                                                                                                                                                                                                                                                                                                                                                                                                                                                                                                                                                                                                                                                                                                                                                                                                                                                                                                                                                                                                                                                                                                                                                                                                                                                                                                                                                                                                                                                                                                                                                                                                                                                                                                                                                                                                                                                                                                                                                                                                                                                                                                                                                                                                                                                                                                                                                                                                                                                                                                                                                                                                                                                                                                                                                                                                                                                                                                                                                                                                                                                                                                                                                                                                                                                                                                                                                                                                                                                                                                                                                                                                                                                                                                                                                                                                                                                                                                                                                                                                                                                                                                                                                                                                                                                                                                                                                                                                                                                                                                                                                                                                                                                                                                                                                                                                                                                                                                                                                                                                                                                                                                                                                                                                                                                                                                                                                                                                                                                                                                                                                                                                                                                                                                                                                                                                                                                                                                                                                                                                                                                                                                                                                                                                                                                                                                                                                                                                                                                                                                                                                                                                                                                                                                                                                                                                                                                                                                                                                                                                                                                                                                                                                                                                                                                                                                                                                                                                                                                                                                                                                                                                                                                                                                                                                                                                                                                                                                                                                                                                                                                                                                                                                                                                                                                                                                                                                                                                                                                                                                                                                                                                                                                                                                                                                                                                                                                                                                                                                                                                                                                                                                                                                                                                                                                                                                                                                                                                                                                                                                                                                                                                                                                                                                                                                                                                                                                                                                                                                                                                                                                                                                                                                                                                                                                                                                                                                                                                                                                                                                                                                                                                                                                                                                                                                                                                                                                                                                                                                                                                                                                                                                                                                                                                                                                                                                                                                                                                                                                                                                                                                                                                                                                                                                                                                                                                                                                                                                                                                                                                                                                                                                                                                                                                                                                                                                                                                                                                                                                                                                                                                                                                                                                                                                                                                                                                                                                                                                                                                                                                                                                                                                                                                                                                                                                              1\n",
       "Xref: cantaloupe.srv.cs.cmu.edu rec.music.marketplace:4878 misc.forsale:76443\\nNewsgroups: rec.music.marketplace,misc.forsale\\nPath: cantaloupe.srv.cs.cmu.edu!magnesium.club.cc.cmu.edu!news.sei.cmu.edu!cis.ohio-state.edu!zaphod.mps.ohio-state.edu!wupost!decwrl!pa.dec.com!engr.uark.edu!csb1\\nFrom: csb1@engr.uark.edu (Chris Bray)\\nMessage-ID: <m0nmpAd-0007SxC@engr.engr.uark.edu>\\nSubject: Classic 80's Rock Tapes for Sale!!!\\nDate: Sat, 24 Apr 1993 13:41:51 -0500\\nX-Received: by usenet.pa.dec.com; id AA03547; Sat, 24 Apr 93 11:44:35 -0700\\nX-Received: by inet-gw-2.pa.dec.com; id AA04095; Sat, 24 Apr 93 11:43:38 -0700\\nX-Received: by engr.engr.uark.edu (Smail3.1.28.1 #2)\\n\\tid m0nmpAd-0007SxC; Sat, 24 Apr 93 13:41 CDT\\nX-Mailer: Mail User's Shell (7.2.4 2/2/92)\\nX-To: alt.rock-n-roll.usnet, rec.music.marketplace.usenet, misc.forsale.usenet\\nLines: 62\\n\\n\\nHi there again...\\nI still have a few tapes left...\\n\\nAs before they are $2.50 each (postage paid, 1st class).\\nMultiple orders appreciated, but not necessary...\\nPackage deals welcome...\\n\\nThanks...\\nChris Bray\\n\\nLewis, Huey|Sports\\n\\tContains \"Heart of Rock and Roll\", \"Heart and Soul\", \"Want a New\\n\\tDrug\", \"Walking on a Thin Line\", \"If This is It\", and more!!!\\n\\nHooters: Nervous Night\\n\\tContains: And We Danced, Day By Day, All You Zombies, Nervous Night...\\n\\nPoison|Look What the Cat Dragged In\\n\\tTheir 1st tape. Contains \"Cry Tough\", \"I Wont Forget You\", \\n\\t\"Talk Dirty to Me\", and more!\\n\\nHall & Oates|Big Bam Boom\\n\\tContains: \"Out of Touch\", \"Possession Obsession\", and more!\\n\\nRatt|Out of the Cellar\\n\\tContains: Wanted Man, Round and Round, and more!\\n\\nQuiet Riot|Condition Critical\\n\\tContains: Mama Weer All Krazy Now\\nOutfield|Play Deep\\n\\tContains: Say It Isn't So, Your Love, All the Love in the World,\\n\\tand more!\\n\\nPlant, Robert|Shaken n' Stirred\\n\\tContains: Little By Little, plus more...\\n\\nJourney|Raised on Radio\\n\\tContains: Girl Cant Help It, Suzanne, Be Good to Yourself, Ill Be\\n\\tAlright Without You, Why Cant This Night Go On Forever...\\n\\nDuran Duran|Arena\\n\\tContains: Is There Something I Should Know?, Hungry Like the Wolf,\\n\\tNew Religon, Wild Boys, Planet Earth, and more!\\n\\nMonkees|Then and Now - The Best of the Monkees\\n\\tContains: All their big hits plus some...\\n\\nINXS|Kick\\n\\tContains: Mediate, New Sensation, Devil Inside, Need You Tonight,\\n\\tNever Tear Us Apart, Mystify, and more! GREAT TAPE....\\n\\n\\n-- \\n==============================================================================\\ncsb1@engr.uark.edu            |  Chris Bray\\ncbray@uafhp.uark.edu          |  University of Arkansas, Fayetteville \\n==============================================================================\\nI think someone should have had the decency to tell me the luncheon\\nwas free. To make someone run out with potato salad in his hand,\\npretending like he's throwing up, is not what I call hospitality.\\n==============================================================================\\n                                                                                                                                                                                                                                                                                                                                                                                                                                                                                                                                                                                                                                                                                                                                                                                                                                                                                                                                                                                                                                                                                                                                                                                                                                                                                                                                                                                                                                                                                                                                                                                                                                                                                                                                                                                                                                                                                                                                                                                                                                                                                                                                                                                                                                                                                                                                                                                                                                                                                                                                                                                                                                                                                                                                                                                                                                                                                                                                                                                                                                                                                                                                                                                                                                                                                                                                                                                                                                                                                                                                                                                                                                                                                                                                                                                                                                                                                                                                                                                                                                                                                                                                                                                                                                                                                                                                                                                                                                                                                                                                                                                                                                                                                                                                                                                                                                                                                                                                                                                                                                                                                                                                                                                                                                                                                                                                                                                                                                                                                                                                                                                                                                                                                                                                                                                                                                                                                                                                                                                                                                                                                                                                                                                                                                                                                                                                                                                                                                                                                                                                                                                                                                                                                                                                                                                                                                                                                                                                                                                                                                                                                                                                                                                                                                                                                                                                                                                                                                                                                                                                                                                                                                                                                                                                                                                                                                                                                                                                                                                                                                                                                                                                                                                                                                                                                                                                                                                                                                                                                                                                                                                                                                                                                                                                                                                                                                                                                                                                                                                                                                                                                                                                                                                                                                                                                                                                                                                                                                                                                                                                                                                                                                                                                                                                                                                                                                                                                                                                                                                                                                                                                                                                                                                                                                                                                                                                                                                                                                                                                                                                                                                                                                                                                                                                                                                                                                                                                                                                                                                                                                                                                                                                                                                                                                                                                                                                                                                                                                                                                                                                                                                                                                                                                                                                                                                                                                                                                                                                                                                                                                                                                                                                                                                                                                                                                                                                                                                                                                                                                                                                                                                                                                                                                                                                                                                                                                                                                                                                                                                                                                                                                                                                                                                                                                                                                                                                                                                                                                                                                                                                                                                                                                                                                                                                                                                                                                                                                                                                                                                                                                                                                                                                                                                                                                                                                                                                                                                                                                                                                                                                                                                                                                                                                                                                                                                                                                                                                                                                                                                                                                                                                                                                                                                                                                                                                                                                                                                                                                                                                                                                                                                                                                                                                                                                                                                                                                                                                                                                                                                                                                                                                                                                                                                                                                                                                                                                                                                                                                                                                                                                                                                                                                                                                                                                                                                                                                                                                                                                                                                                                                                                                                                                                                                                                                                                                                                                                                                                                                                                                                                                                                                                                                                                                                                                                                                                                                                                                                                                                                                                                                                                                                                                                                                                                                                                                                                                                                                                                                                                                                                                                                                                                                                                                                                                                                                                                                                                                                                                                                                                                                                                                                                                                                                                                                                                                                                                                                                                                                                                                                                                                                                                                                                                                                                                                                                                                                                                                                                                                                                                                                                                                                                                                                                                                                                                                                                                                                                                                                                                                                                                                                                                                                                                                                                                                                                                                                                                                                                                                                                                                                                                                                                                                                                                                                                                                                                                                                                                                                                                                                                                                                                                                                                                                                                                                                                                                                                                                                                                                                                                                                                                                                                                                                                                                                                                                                                                                                                                                                                                                                                                                                                                                                                                                                                                                                                                                                                                                                                                                                                                                                                                                                 1\n",
       "Path: cantaloupe.srv.cs.cmu.edu!magnesium.club.cc.cmu.edu!news.sei.cmu.edu!cis.ohio-state.edu!zaphod.mps.ohio-state.edu!malgudi.oar.net!hyperion!desire.wright.edu!jyow\\nFrom: jyow@desire.wright.edu\\nNewsgroups: misc.forsale\\nSubject: Camera: Olymypus Stylus, pocket camera\\nMessage-ID: <1993Apr24.135324.8955@desire.wright.edu>\\nDate: 24 Apr 93 13:53:24 EST\\nOrganization:  Wright State University \\nLines: 9\\n\\nOlympus Stylus, 35mm pocket camera. Smallest in its class.  Includes \\nTIME & DATE STAMP, BATTERY, & CARRYING CASE.  Red eye reduction, timer\\nfully automatic.  Rated #2 in Consumer Reports.  $115 obo.\\n\\n-- \\n************************************************************************\\nJason Yow\\t\\t\\t\\tHuman Factors Psychology Program\\nWright State University, Dayton, OH\\tE-mail: jyow@desire.wright.edu\\n************************************************************************\\n                                                                                                                                                                                                                                                                                                                                                                                                                                                                                                                                                                                                                                                                                                                                                                                                                                                                                                                                                                                                                                                                                                                                                                                                                                                                                                                                                                                                                                                                                                                                                                                                                                                                                                                                                                                                                                                                                                                                                                                                                                                                                                                                                                                                                                                                                                                                                                                                                                                                                                                                                                                                                                                                                                                                                                                                                                                                                                                                                                                                                                                                                                                                                                                                                                                                                                                                                                                                                                                                                                                                                                                                                                                                                                                                                                                                                                                                                                                                                                                                                                                                                                                                                                                                                                                                                                                                                                                                                                                                                                                                                                                                                                                                                                                                                                                                                                                                                                                                                                                                                                                                                                                                                                                                                                                                                                                                                                                                                                                                                                                                                                                                                                                                                                                                                                                                                                                                                                                                                                                                                                                                                                                                                                                                                                                                                                                                                                                                                                                                                                                                                                                                                                                                                                                                                                                                                                                                                                                                                                                                                                                                                                                                                                                                                                                                                                                                                                                                                                                                                                                                                                                                                                                                                                                                                                                                                                                                                                                                                                                                                                                                                                                                                                                                                                                                                                                                                                                                                                                                                                                                                                                                                                                                                                                                                                                                                                                                                                                                                                                                                                                                                                                                                                                                                                                                                                                                                                                                                                                                                                                                                                                                                                                                                                                                                                                                                                                                                                                                                                                                                                                                                                                                                                                                                                                                                                                                                                                                                                                                                                                                                                                                                                                                                                                                                                                                                                                                                                                                                                                                                                                                                                                                                                                                                                                                                                                                                                                                                                                                                                                                                                                                                                                                                                                                                                                                                                                                                                                                                                                                                                                                                                                                                                                                                                                                                                                                                                                                                                                                                                                                                                                                                                                                                                                                                                                                                                                                                                                                                                                                                                                                                                                                                                                                                                                                                                                                                                                                                                                                                                                                                                                                                                                                                                                                                                                                                                                                                                                                                                                                                                                                                                                                                                                                                                                                                                                                                                                                                                                                                                                                                                                                                                                                                                                                                                                                                                                                                                                                                                                                                                                                                                                                                                                                                                                                                                                                                                                                                                                                                                                                                                                                                                                                                                                                                                                                                                                                                                                                                                                                                                                                                                                                                                                                                                                                                                                                                                                                                                                                                                                                                                                                                                                                                                                                                                                                                                                                                                                                                                                                                                                                                                                                                                                                                                                                                                                                                                                                                                                                                                                                                                                                                                                                                                                                                                                                                                                                                                                                                                                                                                                                                                                                                                                                                                                                                                                                                                                                                                                                                                                                                                                                                                                                                                                                                                                                                                                                                                                                                                                                                                                                                                                                                                                                                                                                                                                                                                                                                                                                                                                                                                                                                                                                                                                                                                                                                                                                                                                                                                                                                                                                                                                                                                                                                                                                                                                                                                                                                                                                                                                                                                                                                                                                                                                                                                                                                                                                                                                                                                                                                                                                                                                                                                                                                                                                                                                                                                                                                                                                                                                                                                                                                                                                                                                                                                                                                                                                                                                                                                                                                                                                                                                                                                                                                                                                                                                                                                                                                                                                                                                                                                                                                                                                                                                                                                                                                                                                                                                                                                                                                                                                                                                                                                                                                                                                                                                                                                                                                                                                                                                                                                                                                                                                                                                                                                                                                                                                                                                                                                                                                                                                                                                                                                                                                                                                                                                                                                                                                                                                                                                                                                                                                                                                                                                                                                                                                                                                                                                                                                                                                                                                                                                                                                                                                                                                                      1\n",
       "Xref: cantaloupe.srv.cs.cmu.edu talk.abortion:121820 alt.atheism:54486 talk.religion.misc:84570 alt.tv.prisoner:4378\\nNewsgroups: talk.abortion,alt.atheism,talk.religion.misc,alt.tv.prisoner\\nPath: cantaloupe.srv.cs.cmu.edu!rochester!udel!bogus.sura.net!news-feed-1.peachnet.edu!emory!nntp.msstate.edu!olivea!quack!pharvey\\nFrom: pharvey@quack.kfu.com (Paul Harvey)\\nSubject: Re: I'll see your demand and raise you... (was Re: After 2000 years etc)\\nMessage-ID: <f2ui5RH@quack.kfu.com>\\nOrganization: The Duck Pond public unix: +1 408 249 9630, log in as 'guest'.\\nReferences: <kmr4.1697.735654694@po.CWRU.edu> \\n\\t<C64H4w.BFH@darkside.osrhe.uoknor.edu>\\nDate: 27 Apr 1993 17:43:23 UTC\\nLines: 16\\n\\nIn article <C64H4w.BFH@darkside.osrhe.uoknor.edu> \\nbil@okcforum.osrhe.edu (Bill Conner) writes:\\n>Keith M. Ryan (kmr4@po.CWRU.edu) wrote:\\n>: [34mAnd now . . . [35mDeep Thoughts[0m\\n>: \\t[32mby Jack Handey.[0m\\n>: [36mIf you go parachuting, and your parachute doesn't open, and your\\n>: friends are all watching you fall, I think a funny gag would be\\n>: to pretend you were swimming.[0m\\n>Keith, \\n>As you must know by now there are no Escape Sequences here (ANSI or\\n>otherwise). Once you enter here, your terminal beomes dumb. There's\\n>something significant about all this ...\\n\\nYou are in the village. Many happy returns! Be seeing you!\\n\\n[your ways and means get reign of the tek!]\\n                                                                                                                                                                                                                                                                                                                                                                                                                                                                                                                                                                                                                                                                                                                                                                                                                                                                                                                                                                                                                                                                                                                                                                                                                                                                                                                                                                                                                                                                                                                                                                                                                                                                                                                                                                                                                                                                                                                                                                                                                                                                                                                                                                                                                                                                                                                                                                                                                                                                                                                                                                                                                                                                                                                                                                                                                                                                                                                                                                                                                                                                                                                                                                                                                                                                                                                                                                                                                                                                                                                                                                                                                                                                                                                                                                                                                                                                                                                                                                                                                                                                                                                                                                                                                                                                                                                                                                                                                                                                                                                                                                                                                                                                                                                                                                                                                                                                                                                                                                                                                                                                                                                                                                                                                                                                                                                                                                                                                                                                                                                                                                                                                                                                                                                                                                                                                                                                                                                                                                                                                                                                                                                                                                                                                                                                                                                                                                                                                                                                                                                                                                                                                                                                                                                                                                                                                                                                                                                                                                                                                                                                                                                                                                                                                                                                                                                                                                                                                                                                                                                                                                                                                                                                                                                                                                                                                                                                                                                                                                                                                                                                                                                                                                                                                                                                                                                                                                                                                                                                                                                                                                                                                                                                                                                                                                                                                                                                                                                                                                                                                                                                                                                                                                                                                                                                                                                                                                                                                                                                                                                                                                                                                                                                                                                                                                                                                                                                                                                                                                                                                                                                                                                                                                                                                                                                                                                                                                                                                                                                                                                                                                                                                                                                                                                                                                                                                                                                                                                                                                                                                                                                                                                                                                                                                                                                                                                                                                                                                                                                                                                                                                                                                                                                                                                                                                                                                                                                                                                                                                                                                                                                                                                                                                                                                                                                                                                                                                                                                                                                                                                                                                                                                                                                                                                                                                                                                                                                                                                                                                                                                                                                                                                                                                                                                                                                                                                                                                                                                                                                                                                                                                                                                                                                                                                                                                                                                                                                                                                                                                                                                                                                                                                                                                                                                                                                                                                                                                                                                                                                                                                                                                                                                                                                                                                                                                                                                                                                                                                                                                                                                                                                                                                                                                                                                                                                                                                                                                                                                                                                                                                                                                                                                                                                                                                                                                                                                                                                                                                                                                                                                                                                                                                                                                                                                                                                                                                                                                                                                                                                                                                                                                                                                                                                                                                                                                                                                                                                                                                                                                                                                                                                                                                                                                                                                                                                                                                                                                                                                                                                                                                                                                                                                                                                                                                                                                                                                                                                                                                                                                                                                                                                                                                                                                                                                                                                                                                                                                                                                                                                                                                                                                                                                                                                                                                                                                                                                                                                                                                                                                                                                                                                                                                                                                                                                                                                                                                                                                                                                                                                                                                                                                                                                                                                                                                                                                                                                                                                                                                                                                                                                                                                                                                                                                                                                                                                                                                                                                                                                                                                                                                                                                                                                                                                                                                                                                                                                                                                                                                                                                                                                                                                                                                                                                                                                                                                                                                                                                                                                                                                                                                                                                                                                                                                                                                                                                                                                                                                                                                                                                                                                                                                                                                                                                                                                                                                                                                                                                                                                                                                                                                                                                                                                                                                                                                                                                                                                                                                                                                                                                                                                                                                                                                                                                                                                                                                                                                                                                                                                                                                                                                                                                                                                                                                                                                                                                                                                                                                                                                                                                                                                                                                                                                                                                                                                                                                                                                                                                                                                                                                                                                                                                                                                                                                                                                                                                1\n",
       "Name: Data, Length: 19466, dtype: int64"
      ]
     },
     "execution_count": 8,
     "metadata": {},
     "output_type": "execute_result"
    }
   ],
   "source": [
    "df['Data'].value_counts()"
   ]
  },
  {
   "cell_type": "code",
   "execution_count": 9,
   "id": "93ad5d3b",
   "metadata": {
    "scrolled": false
   },
   "outputs": [
    {
     "name": "stderr",
     "output_type": "stream",
     "text": [
      "C:\\Users\\Kajal\\AppData\\Local\\Temp\\ipykernel_8972\\1680669653.py:1: FutureWarning: The default value of numeric_only in DataFrame.corr is deprecated. In a future version, it will default to False. Select only valid columns or specify the value of numeric_only to silence this warning.\n",
      "  corr_matrix = df.corr()\n"
     ]
    },
    {
     "data": {
      "text/plain": [
       "Unnamed: 0    1.0\n",
       "Name: Unnamed: 0, dtype: float64"
      ]
     },
     "execution_count": 9,
     "metadata": {},
     "output_type": "execute_result"
    }
   ],
   "source": [
    "corr_matrix = df.corr()\n",
    "corr_matrix[\"Unnamed: 0\"].sort_values(ascending=False)"
   ]
  },
  {
   "cell_type": "code",
   "execution_count": 10,
   "id": "075f58a5",
   "metadata": {},
   "outputs": [],
   "source": [
    "# Correlation Heatmap"
   ]
  },
  {
   "cell_type": "code",
   "execution_count": 11,
   "id": "cb4568de",
   "metadata": {},
   "outputs": [
    {
     "name": "stderr",
     "output_type": "stream",
     "text": [
      "C:\\Users\\Kajal\\AppData\\Local\\Temp\\ipykernel_8972\\2238279612.py:3: FutureWarning: The default value of numeric_only in DataFrame.corr is deprecated. In a future version, it will default to False. Select only valid columns or specify the value of numeric_only to silence this warning.\n",
      "  sns.heatmap(df.corr(), annot=True, linewidths =.5, fmt ='.1f',ax=ax)\n"
     ]
    },
    {
     "data": {
      "image/png": "[encoded data removed]",
      "text/plain": [
       "<Figure size 1200x1000 with 2 Axes>"
      ]
     },
     "metadata": {},
     "output_type": "display_data"
    }
   ],
   "source": [
    "import seaborn as sns\n",
    "f,ax = plt.subplots(figsize=(12,10))\n",
    "sns.heatmap(df.corr(), annot=True, linewidths =.5, fmt ='.1f',ax=ax)\n",
    "plt.show()"
   ]
  },
  {
   "cell_type": "markdown",
   "id": "fa5e0d0e",
   "metadata": {},
   "source": [
    "# Tokenization\n",
    "is the process of breaking down a stream of text into words, phrases or symbols known as tokens"
   ]
  },
  {
   "cell_type": "code",
   "execution_count": 12,
   "id": "b03a3310",
   "metadata": {},
   "outputs": [
    {
     "name": "stdout",
     "output_type": "stream",
     "text": [
      "['i', 'hate', 'this', 'novel', '!']\n"
     ]
    }
   ],
   "source": [
    "from nltk.tokenize import word_tokenize\n",
    "df =word_tokenize('I hate this novel!'.lower())\n",
    "print(df)"
   ]
  },
  {
   "cell_type": "code",
   "execution_count": 13,
   "id": "83bf3d17",
   "metadata": {},
   "outputs": [
    {
     "data": {
      "text/plain": [
       "'i'"
      ]
     },
     "execution_count": 13,
     "metadata": {},
     "output_type": "execute_result"
    }
   ],
   "source": [
    "df[0]"
   ]
  },
  {
   "cell_type": "markdown",
   "id": "80b3ea37",
   "metadata": {},
   "source": [
    "# What if the text is really long?"
   ]
  },
  {
   "cell_type": "code",
   "execution_count": 14,
   "id": "445e1699",
   "metadata": {},
   "outputs": [
    {
     "name": "stdout",
     "output_type": "stream",
     "text": [
      "I love this book!\n",
      "Though I hate the beginning.\n",
      "It would be great for you.\n"
     ]
    }
   ],
   "source": [
    "#split into sentences\n",
    "from nltk.tokenize import sent_tokenize\n",
    "sentences = sent_tokenize('''I love this book! Though I hate the beginning. It would be great for you.''')\n",
    "for s in sentences:print(s)"
   ]
  },
  {
   "cell_type": "markdown",
   "id": "b2f27901",
   "metadata": {},
   "source": [
    "# Naive Bayes Algorithm\n",
    "This is a classification algorithm that works on Bayes theorem of probability to predict the class of unknown outcome. It assumes that the presence of a particular feature in a class in unrelated to the presence of any other feature."
   ]
  },
  {
   "cell_type": "code",
   "execution_count": 15,
   "id": "cdd6f7ec",
   "metadata": {},
   "outputs": [],
   "source": [
    "import nltk.classify.util #calculates accuracy\n",
    "from nltk.classify import NaiveBayesClassifier #imports the classifier Naive Bayes\n",
    "from nltk.corpus import movie_reviews #imports movie reviews from nltk\n",
    "from nltk.corpus import stopwords #imports stopwords from nltk\n",
    "from nltk.corpus import wordnet #imports wordnet(lexical database for the english language) from nltk"
   ]
  },
  {
   "cell_type": "code",
   "execution_count": 16,
   "id": "cf6b24a3",
   "metadata": {},
   "outputs": [],
   "source": [
    "#import movie_reviews\n",
    "from nltk.corpus import movie_reviews"
   ]
  },
  {
   "cell_type": "code",
   "execution_count": 17,
   "id": "11ac5440",
   "metadata": {},
   "outputs": [
    {
     "name": "stderr",
     "output_type": "stream",
     "text": [
      "[nltk_data] Downloading package movie_reviews to\n",
      "[nltk_data]     C:\\Users\\Kajal\\AppData\\Roaming\\nltk_data...\n",
      "[nltk_data]   Package movie_reviews is already up-to-date!\n"
     ]
    },
    {
     "data": {
      "text/plain": [
       "True"
      ]
     },
     "execution_count": 17,
     "metadata": {},
     "output_type": "execute_result"
    }
   ],
   "source": [
    "import nltk\n",
    "nltk.download('movie_reviews')"
   ]
  },
  {
   "cell_type": "code",
   "execution_count": 18,
   "id": "c0ee65f0",
   "metadata": {},
   "outputs": [
    {
     "data": {
      "text/plain": [
       "[(',', 77717),\n",
       " ('the', 76529),\n",
       " ('.', 65876),\n",
       " ('a', 38106),\n",
       " ('and', 35576),\n",
       " ('of', 34123),\n",
       " ('to', 31937),\n",
       " (\"'\", 30585),\n",
       " ('is', 25195),\n",
       " ('in', 21822)]"
      ]
     },
     "execution_count": 18,
     "metadata": {},
     "output_type": "execute_result"
    }
   ],
   "source": [
    "#frequency distribution of words in movie review\n",
    "all_words = movie_reviews.words()\n",
    "freq_dist = nltk.FreqDist(all_words)\n",
    "freq_dist.most_common(10)"
   ]
  },
  {
   "cell_type": "code",
   "execution_count": 19,
   "id": "3a4ae8bb",
   "metadata": {},
   "outputs": [
    {
     "name": "stdout",
     "output_type": "stream",
     "text": [
      "['i', 'hate', 'this', 'novel', '!']\n"
     ]
    }
   ],
   "source": [
    "from nltk.tokenize import word_tokenize\n",
    "words =word_tokenize('I hate this novel!'.lower())\n",
    "print(words)"
   ]
  },
  {
   "cell_type": "code",
   "execution_count": 20,
   "id": "97c2eab9",
   "metadata": {},
   "outputs": [
    {
     "data": {
      "text/plain": [
       "'i'"
      ]
     },
     "execution_count": 20,
     "metadata": {},
     "output_type": "execute_result"
    }
   ],
   "source": [
    "words[0]"
   ]
  },
  {
   "cell_type": "code",
   "execution_count": 21,
   "id": "fa3436bd",
   "metadata": {},
   "outputs": [
    {
     "name": "stdout",
     "output_type": "stream",
     "text": [
      "I love this book!\n",
      "Though I hate the beginning.\n",
      "It would be great for you.\n"
     ]
    }
   ],
   "source": [
    "#split into sentences\n",
    "from nltk.tokenize import sent_tokenize\n",
    "sentences = sent_tokenize('''I love this book! Though I hate the beginning. It would be great for you.''')\n",
    "for s in sentences:print(s)"
   ]
  },
  {
   "cell_type": "code",
   "execution_count": 22,
   "id": "4a0e2172",
   "metadata": {},
   "outputs": [
    {
     "data": {
      "text/plain": [
       "['plot', ':', 'two', 'teen', 'couples', 'go', 'to', ...]"
      ]
     },
     "execution_count": 22,
     "metadata": {},
     "output_type": "execute_result"
    }
   ],
   "source": [
    "#import movie_reviews\n",
    "from nltk.corpus import movie_reviews\n",
    "\n",
    "#see words in the review\n",
    "movie_reviews.words()"
   ]
  },
  {
   "cell_type": "code",
   "execution_count": 23,
   "id": "371b53b5",
   "metadata": {},
   "outputs": [
    {
     "data": {
      "text/plain": [
       "['neg', 'pos']"
      ]
     },
     "execution_count": 23,
     "metadata": {},
     "output_type": "execute_result"
    }
   ],
   "source": [
    "movie_reviews.categories()"
   ]
  },
  {
   "cell_type": "code",
   "execution_count": 24,
   "id": "ee10abea",
   "metadata": {},
   "outputs": [
    {
     "data": {
      "text/plain": [
       "[(',', 77717),\n",
       " ('the', 76529),\n",
       " ('.', 65876),\n",
       " ('a', 38106),\n",
       " ('and', 35576),\n",
       " ('of', 34123),\n",
       " ('to', 31937),\n",
       " (\"'\", 30585),\n",
       " ('is', 25195),\n",
       " ('in', 21822)]"
      ]
     },
     "execution_count": 24,
     "metadata": {},
     "output_type": "execute_result"
    }
   ],
   "source": [
    "#frequency distribution of words in movie review\n",
    "all_words = movie_reviews.words()\n",
    "freq_dist = nltk.FreqDist(all_words)\n",
    "freq_dist.most_common(10)"
   ]
  },
  {
   "cell_type": "markdown",
   "id": "37d6f21c",
   "metadata": {},
   "source": [
    "# Stopwords\n",
    "These are words that carry little or no meaning in a sentence, but are really common(High frequency words). eg a, I , is, the etc\n",
    "\n",
    "When doing Language processing, we need to get rid of these words since they take up a large part of any sentence without adding any context or info."
   ]
  },
  {
   "cell_type": "code",
   "execution_count": 25,
   "id": "9eaa4b9c",
   "metadata": {},
   "outputs": [
    {
     "data": {
      "text/plain": [
       "['i',\n",
       " 'me',\n",
       " 'my',\n",
       " 'myself',\n",
       " 'we',\n",
       " 'our',\n",
       " 'ours',\n",
       " 'ourselves',\n",
       " 'you',\n",
       " \"you're\",\n",
       " \"you've\",\n",
       " \"you'll\",\n",
       " \"you'd\",\n",
       " 'your',\n",
       " 'yours',\n",
       " 'yourself']"
      ]
     },
     "execution_count": 25,
     "metadata": {},
     "output_type": "execute_result"
    }
   ],
   "source": [
    "#inbuilt list of stopwords in nltk\n",
    "stopwords.words('english')[:16]"
   ]
  },
  {
   "cell_type": "markdown",
   "id": "d2a6fefa",
   "metadata": {},
   "source": [
    "# How do we remove stopwords?"
   ]
  },
  {
   "cell_type": "code",
   "execution_count": 26,
   "id": "bc23db29",
   "metadata": {},
   "outputs": [],
   "source": [
    "sent = \"the program was open to all women between the ages of 17 and 35, in good health, who had graduated from an accredited high school\""
   ]
  },
  {
   "cell_type": "code",
   "execution_count": 27,
   "id": "d3731410",
   "metadata": {},
   "outputs": [
    {
     "name": "stdout",
     "output_type": "stream",
     "text": [
      "['program', 'open', 'women', 'ages', '17', '35', ',', 'good', 'health', ',', 'graduated', 'accredited', 'high', 'school']\n"
     ]
    },
    {
     "data": {
      "text/plain": [
       "['program',\n",
       " 'open',\n",
       " 'women',\n",
       " 'ages',\n",
       " '17',\n",
       " '35',\n",
       " ',',\n",
       " 'good',\n",
       " 'health',\n",
       " ',',\n",
       " 'graduated',\n",
       " 'accredited',\n",
       " 'high',\n",
       " 'school']"
      ]
     },
     "execution_count": 27,
     "metadata": {},
     "output_type": "execute_result"
    }
   ],
   "source": [
    "#a token is a word or entity in a text\n",
    "words = word_tokenize(sent)\n",
    "useful_words = [word for word in words if word not in stopwords.words('english')]\n",
    "print(useful_words)\n",
    "['program', 'open', 'women', 'ages', '17', '35', ',', 'good', 'health', ',', 'graduated', 'accredited', 'high', 'school']"
   ]
  },
  {
   "cell_type": "code",
   "execution_count": 28,
   "id": "d42089d2",
   "metadata": {},
   "outputs": [],
   "source": [
    "# This is how the Naive Bayes classifier expects the input\n",
    "def create_word_features(words):\n",
    "    useful_words = [word for word in words if word not in stopwords.words(\"english\")]\n",
    "    my_dict = dict([(word, True) for word in useful_words])\n",
    "    return my_dict"
   ]
  },
  {
   "cell_type": "code",
   "execution_count": 29,
   "id": "aa7a22d2",
   "metadata": {},
   "outputs": [
    {
     "data": {
      "text/plain": [
       "{'quick': True, 'brown': True, 'fox': True}"
      ]
     },
     "execution_count": 29,
     "metadata": {},
     "output_type": "execute_result"
    }
   ],
   "source": [
    "create_word_features([\"the\", \"quick\", \"brown\", \"quick\", \"a\", \"fox\"])"
   ]
  },
  {
   "cell_type": "code",
   "execution_count": 30,
   "id": "a0666686",
   "metadata": {},
   "outputs": [
    {
     "name": "stdout",
     "output_type": "stream",
     "text": [
      "1000\n"
     ]
    }
   ],
   "source": [
    "neg_reviews = [] #We creates an empty list\n",
    "\n",
    "#loop over all the files in the neg folder and applies the create_word_features\n",
    "for fileid in movie_reviews.fileids('neg'):\n",
    "    words = movie_reviews.words(fileid)\n",
    "    neg_reviews.append((create_word_features(words),\"negative\")) \n",
    "    \n",
    "print(len(neg_reviews))"
   ]
  },
  {
   "cell_type": "code",
   "execution_count": 31,
   "id": "d63ffe3c",
   "metadata": {},
   "outputs": [
    {
     "name": "stdout",
     "output_type": "stream",
     "text": [
      "1000\n"
     ]
    }
   ],
   "source": [
    "pos_reviews = []\n",
    "for fileid in movie_reviews.fileids('pos'):\n",
    "    words = movie_reviews.words(fileid)\n",
    "    pos_reviews.append((create_word_features(words), \"positive\"))\n",
    "    \n",
    "#print(pos_reviews[0])    \n",
    "print(len(pos_reviews))\n",
    " "
   ]
  },
  {
   "cell_type": "markdown",
   "id": "38597dd1",
   "metadata": {},
   "source": [
    "# Training and Testing the Naive Bayes Classifier"
   ]
  },
  {
   "cell_type": "code",
   "execution_count": 32,
   "id": "49c54979",
   "metadata": {},
   "outputs": [
    {
     "name": "stdout",
     "output_type": "stream",
     "text": [
      "1500 500\n"
     ]
    }
   ],
   "source": [
    "train_set = neg_reviews[:750] + pos_reviews[:750]\n",
    "test_set =  neg_reviews[750:] + pos_reviews[750:]\n",
    "print(len(train_set),  len(test_set))"
   ]
  },
  {
   "cell_type": "code",
   "execution_count": 33,
   "id": "7e7ff0c2",
   "metadata": {},
   "outputs": [],
   "source": [
    "#create the NaiveBayesClassifier\n",
    "classifier = NaiveBayesClassifier.train(train_set)"
   ]
  },
  {
   "cell_type": "code",
   "execution_count": 34,
   "id": "cc0bce36",
   "metadata": {},
   "outputs": [
    {
     "name": "stdout",
     "output_type": "stream",
     "text": [
      "72.39999999999999\n"
     ]
    }
   ],
   "source": [
    "accuracy = nltk.classify.util.accuracy(classifier, test_set)\n",
    "print(accuracy * 100)"
   ]
  },
  {
   "cell_type": "code",
   "execution_count": 35,
   "id": "1024db62",
   "metadata": {},
   "outputs": [],
   "source": [
    "review_emoji_movie = '''\n",
    "This engaging adventure triumphs because of its empowering storyline, which pays tribute to Polynesian culture, and because of its feel-good music, courtesy of Hamilton creator Lin-Manuel Miranda.\n",
    "'''"
   ]
  },
  {
   "cell_type": "code",
   "execution_count": 36,
   "id": "2688b14f",
   "metadata": {},
   "outputs": [
    {
     "data": {
      "text/plain": [
       "'positive'"
      ]
     },
     "execution_count": 36,
     "metadata": {},
     "output_type": "execute_result"
    }
   ],
   "source": [
    "words = word_tokenize(review_emoji_movie)\n",
    "words = create_word_features(words)\n",
    "classifier.classify(words)"
   ]
  },
  {
   "cell_type": "code",
   "execution_count": 37,
   "id": "137fef09",
   "metadata": {},
   "outputs": [],
   "source": [
    "data= pd.read_csv('blogs_categories.csv')"
   ]
  },
  {
   "cell_type": "code",
   "execution_count": 38,
   "id": "1c8a6ff5",
   "metadata": {},
   "outputs": [
    {
     "data": {
      "text/html": [
       "<div>\n",
       "<style scoped>\n",
       "    .dataframe tbody tr th:only-of-type {\n",
       "        vertical-align: middle;\n",
       "    }\n",
       "\n",
       "    .dataframe tbody tr th {\n",
       "        vertical-align: top;\n",
       "    }\n",
       "\n",
       "    .dataframe thead th {\n",
       "        text-align: right;\n",
       "    }\n",
       "</style>\n",
       "<table border=\"1\" class=\"dataframe\">\n",
       "  <thead>\n",
       "    <tr style=\"text-align: right;\">\n",
       "      <th></th>\n",
       "      <th>Unnamed: 0</th>\n",
       "      <th>Data</th>\n",
       "      <th>Labels</th>\n",
       "    </tr>\n",
       "  </thead>\n",
       "  <tbody>\n",
       "    <tr>\n",
       "      <th>0</th>\n",
       "      <td>0</td>\n",
       "      <td>Xref: cantaloupe.srv.cs.cmu.edu alt.atheism:49...</td>\n",
       "      <td>alt.atheism</td>\n",
       "    </tr>\n",
       "    <tr>\n",
       "      <th>1</th>\n",
       "      <td>1</td>\n",
       "      <td>Xref: cantaloupe.srv.cs.cmu.edu alt.atheism:51...</td>\n",
       "      <td>alt.atheism</td>\n",
       "    </tr>\n",
       "    <tr>\n",
       "      <th>2</th>\n",
       "      <td>2</td>\n",
       "      <td>Newsgroups: alt.atheism\\nPath: cantaloupe.srv....</td>\n",
       "      <td>alt.atheism</td>\n",
       "    </tr>\n",
       "    <tr>\n",
       "      <th>3</th>\n",
       "      <td>3</td>\n",
       "      <td>Xref: cantaloupe.srv.cs.cmu.edu alt.atheism:51...</td>\n",
       "      <td>alt.atheism</td>\n",
       "    </tr>\n",
       "    <tr>\n",
       "      <th>4</th>\n",
       "      <td>4</td>\n",
       "      <td>Xref: cantaloupe.srv.cs.cmu.edu alt.atheism:51...</td>\n",
       "      <td>alt.atheism</td>\n",
       "    </tr>\n",
       "    <tr>\n",
       "      <th>...</th>\n",
       "      <td>...</td>\n",
       "      <td>...</td>\n",
       "      <td>...</td>\n",
       "    </tr>\n",
       "    <tr>\n",
       "      <th>19992</th>\n",
       "      <td>19992</td>\n",
       "      <td>Xref: cantaloupe.srv.cs.cmu.edu alt.atheism:54...</td>\n",
       "      <td>talk.religion.misc</td>\n",
       "    </tr>\n",
       "    <tr>\n",
       "      <th>19993</th>\n",
       "      <td>19993</td>\n",
       "      <td>Xref: cantaloupe.srv.cs.cmu.edu alt.atheism:54...</td>\n",
       "      <td>talk.religion.misc</td>\n",
       "    </tr>\n",
       "    <tr>\n",
       "      <th>19994</th>\n",
       "      <td>19994</td>\n",
       "      <td>Xref: cantaloupe.srv.cs.cmu.edu talk.religion....</td>\n",
       "      <td>talk.religion.misc</td>\n",
       "    </tr>\n",
       "    <tr>\n",
       "      <th>19995</th>\n",
       "      <td>19995</td>\n",
       "      <td>Xref: cantaloupe.srv.cs.cmu.edu talk.religion....</td>\n",
       "      <td>talk.religion.misc</td>\n",
       "    </tr>\n",
       "    <tr>\n",
       "      <th>19996</th>\n",
       "      <td>19996</td>\n",
       "      <td>Xref: cantaloupe.srv.cs.cmu.edu talk.abortion:...</td>\n",
       "      <td>talk.religion.misc</td>\n",
       "    </tr>\n",
       "  </tbody>\n",
       "</table>\n",
       "<p>19997 rows × 3 columns</p>\n",
       "</div>"
      ],
      "text/plain": [
       "       Unnamed: 0                                               Data  \\\n",
       "0               0  Xref: cantaloupe.srv.cs.cmu.edu alt.atheism:49...   \n",
       "1               1  Xref: cantaloupe.srv.cs.cmu.edu alt.atheism:51...   \n",
       "2               2  Newsgroups: alt.atheism\\nPath: cantaloupe.srv....   \n",
       "3               3  Xref: cantaloupe.srv.cs.cmu.edu alt.atheism:51...   \n",
       "4               4  Xref: cantaloupe.srv.cs.cmu.edu alt.atheism:51...   \n",
       "...           ...                                                ...   \n",
       "19992       19992  Xref: cantaloupe.srv.cs.cmu.edu alt.atheism:54...   \n",
       "19993       19993  Xref: cantaloupe.srv.cs.cmu.edu alt.atheism:54...   \n",
       "19994       19994  Xref: cantaloupe.srv.cs.cmu.edu talk.religion....   \n",
       "19995       19995  Xref: cantaloupe.srv.cs.cmu.edu talk.religion....   \n",
       "19996       19996  Xref: cantaloupe.srv.cs.cmu.edu talk.abortion:...   \n",
       "\n",
       "                   Labels  \n",
       "0             alt.atheism  \n",
       "1             alt.atheism  \n",
       "2             alt.atheism  \n",
       "3             alt.atheism  \n",
       "4             alt.atheism  \n",
       "...                   ...  \n",
       "19992  talk.religion.misc  \n",
       "19993  talk.religion.misc  \n",
       "19994  talk.religion.misc  \n",
       "19995  talk.religion.misc  \n",
       "19996  talk.religion.misc  \n",
       "\n",
       "[19997 rows x 3 columns]"
      ]
     },
     "execution_count": 38,
     "metadata": {},
     "output_type": "execute_result"
    }
   ],
   "source": [
    "data"
   ]
  },
  {
   "cell_type": "code",
   "execution_count": 39,
   "id": "470d38a4",
   "metadata": {},
   "outputs": [
    {
     "data": {
      "text/plain": [
       "19997"
      ]
     },
     "execution_count": 39,
     "metadata": {},
     "output_type": "execute_result"
    }
   ],
   "source": [
    "len(data)"
   ]
  },
  {
   "cell_type": "code",
   "execution_count": 40,
   "id": "1348f77b",
   "metadata": {},
   "outputs": [
    {
     "data": {
      "text/plain": [
       "['We', 'are', 'learning', 'tokenization', 'in', 'NLP']"
      ]
     },
     "execution_count": 40,
     "metadata": {},
     "output_type": "execute_result"
    }
   ],
   "source": [
    "# in this paragraph special symbols, quotation marks, punchuation symbols, emojis are present\n",
    "# these are all unnecessary things.\n",
    "# Tokenization\n",
    "# Word Tokenization\n",
    "\n",
    "document = \"We are learning tokenization in NLP\"\n",
    "nltk.word_tokenize(document)\n"
   ]
  },
  {
   "cell_type": "code",
   "execution_count": 41,
   "id": "7cea1f78",
   "metadata": {},
   "outputs": [
    {
     "data": {
      "text/plain": [
       "35"
      ]
     },
     "execution_count": 41,
     "metadata": {},
     "output_type": "execute_result"
    }
   ],
   "source": [
    "len(document)"
   ]
  },
  {
   "cell_type": "code",
   "execution_count": 42,
   "id": "d6ce9e42",
   "metadata": {},
   "outputs": [],
   "source": [
    "#Sentence Tokenization\n",
    "sent = nltk.sent_tokenize(\"data\")"
   ]
  },
  {
   "cell_type": "code",
   "execution_count": 43,
   "id": "bd1bf516",
   "metadata": {},
   "outputs": [
    {
     "data": {
      "text/plain": [
       "19997"
      ]
     },
     "execution_count": 43,
     "metadata": {},
     "output_type": "execute_result"
    }
   ],
   "source": [
    "len(data)"
   ]
  },
  {
   "cell_type": "code",
   "execution_count": 44,
   "id": "1b66ea93",
   "metadata": {},
   "outputs": [
    {
     "data": {
      "text/plain": [
       "'data'"
      ]
     },
     "execution_count": 44,
     "metadata": {},
     "output_type": "execute_result"
    }
   ],
   "source": [
    "sent[0]"
   ]
  },
  {
   "cell_type": "code",
   "execution_count": 45,
   "id": "441dfb4f",
   "metadata": {},
   "outputs": [],
   "source": [
    "# Text Cleaning - remove unnecessary things - punctuation marks, symbols, emojis, etc. using sub()\n",
    "# Text normalization - convert each word in lower case\n",
    "#  sub() returns a string where all matching occurrences of the specified pattern are replaced by the replace string.\n",
    "corpus = []\n",
    "\n",
    "for i in range(len(sent)):\n",
    "  txt = re.sub('[^a-zA-Z]',' ',sent[i])# except a-zA-Z remove everything from each sentence\n",
    "  txt = txt.lower()\n",
    "  corpus.append(txt)\n",
    "     "
   ]
  },
  {
   "cell_type": "code",
   "execution_count": 46,
   "id": "0ff36aed",
   "metadata": {},
   "outputs": [
    {
     "data": {
      "text/plain": [
       "['data']"
      ]
     },
     "execution_count": 46,
     "metadata": {},
     "output_type": "execute_result"
    }
   ],
   "source": [
    "corpus"
   ]
  },
  {
   "cell_type": "code",
   "execution_count": 47,
   "id": "e251e0f0",
   "metadata": {},
   "outputs": [],
   "source": [
    "# now we can perform stemming and lemmatization\n",
    "#Stemming\n",
    "stemmer = PorterStemmer()\n",
    "     "
   ]
  },
  {
   "cell_type": "code",
   "execution_count": 48,
   "id": "8d1941e1",
   "metadata": {},
   "outputs": [
    {
     "data": {
      "text/plain": [
       "'goe'"
      ]
     },
     "execution_count": 48,
     "metadata": {},
     "output_type": "execute_result"
    }
   ],
   "source": [
    "stemmer.stem(\"goes\")"
   ]
  },
  {
   "cell_type": "code",
   "execution_count": 49,
   "id": "a809c108",
   "metadata": {},
   "outputs": [
    {
     "data": {
      "text/plain": [
       "'lebal'"
      ]
     },
     "execution_count": 49,
     "metadata": {},
     "output_type": "execute_result"
    }
   ],
   "source": [
    "stemmer.stem(\"Lebal\")"
   ]
  },
  {
   "cell_type": "code",
   "execution_count": 50,
   "id": "c70a8c2e",
   "metadata": {},
   "outputs": [
    {
     "data": {
      "text/plain": [
       "'data'"
      ]
     },
     "execution_count": 50,
     "metadata": {},
     "output_type": "execute_result"
    }
   ],
   "source": [
    "stemmer.stem(\"Data\")"
   ]
  },
  {
   "cell_type": "code",
   "execution_count": 51,
   "id": "35c9ee11",
   "metadata": {},
   "outputs": [
    {
     "data": {
      "text/plain": [
       "'histori'"
      ]
     },
     "execution_count": 51,
     "metadata": {},
     "output_type": "execute_result"
    }
   ],
   "source": [
    "stemmer.stem('history')"
   ]
  },
  {
   "cell_type": "code",
   "execution_count": 52,
   "id": "28de3019",
   "metadata": {},
   "outputs": [
    {
     "data": {
      "text/plain": [
       "'final'"
      ]
     },
     "execution_count": 52,
     "metadata": {},
     "output_type": "execute_result"
    }
   ],
   "source": [
    "stemmer.stem('finally')"
   ]
  },
  {
   "cell_type": "code",
   "execution_count": 53,
   "id": "9f57b826",
   "metadata": {},
   "outputs": [
    {
     "data": {
      "text/plain": [
       "'develop'"
      ]
     },
     "execution_count": 53,
     "metadata": {},
     "output_type": "execute_result"
    }
   ],
   "source": [
    "stemmer.stem(\"developed\")"
   ]
  },
  {
   "cell_type": "code",
   "execution_count": 54,
   "id": "01df0363",
   "metadata": {},
   "outputs": [
    {
     "name": "stdout",
     "output_type": "stream",
     "text": [
      "['data']\n"
     ]
    }
   ],
   "source": [
    "for i in corpus:\n",
    "  words = nltk.word_tokenize(i)\n",
    "  print(words)\n",
    "  # we get separate list for each sentence"
   ]
  },
  {
   "cell_type": "code",
   "execution_count": 55,
   "id": "039461a3",
   "metadata": {},
   "outputs": [
    {
     "name": "stdout",
     "output_type": "stream",
     "text": [
      "data\n"
     ]
    }
   ],
   "source": [
    "# Perform Tokenization, stemming and stop word removal\n",
    "\n",
    "for i in corpus:\n",
    "  words = nltk.word_tokenize(i) # for each sentence in corpus perform word tokenization\n",
    "  for i in words: # for each unique value inside word\n",
    "    if i not in set(stopwords.words('english')): # will check words in stopwords from set of english stopwords\n",
    "      print(stemmer.stem(i)) # the words whch are not present in stopwords set print by performing stemming using stem() function.\n",
    "      # powerful - power, google-googl ... doesn't make sense\n",
    "     "
   ]
  },
  {
   "cell_type": "code",
   "execution_count": 56,
   "id": "bd410d32",
   "metadata": {},
   "outputs": [],
   "source": [
    "# Lemmatization\n",
    "lemma = WordNetLemmatizer()"
   ]
  },
  {
   "cell_type": "code",
   "execution_count": 57,
   "id": "40894fae",
   "metadata": {},
   "outputs": [
    {
     "data": {
      "text/plain": [
       "'google'"
      ]
     },
     "execution_count": 57,
     "metadata": {},
     "output_type": "execute_result"
    }
   ],
   "source": [
    "lemma.lemmatize('google')"
   ]
  },
  {
   "cell_type": "code",
   "execution_count": 58,
   "id": "dd3519db",
   "metadata": {},
   "outputs": [
    {
     "data": {
      "text/plain": [
       "'Data'"
      ]
     },
     "execution_count": 58,
     "metadata": {},
     "output_type": "execute_result"
    }
   ],
   "source": [
    "lemma.lemmatize('Data')"
   ]
  },
  {
   "cell_type": "code",
   "execution_count": 59,
   "id": "9ed4bbed",
   "metadata": {},
   "outputs": [
    {
     "data": {
      "text/plain": [
       "'Label'"
      ]
     },
     "execution_count": 59,
     "metadata": {},
     "output_type": "execute_result"
    }
   ],
   "source": [
    "lemma.lemmatize('Label')"
   ]
  },
  {
   "cell_type": "code",
   "execution_count": 60,
   "id": "5a685556",
   "metadata": {},
   "outputs": [
    {
     "data": {
      "text/plain": [
       "'historical'"
      ]
     },
     "execution_count": 60,
     "metadata": {},
     "output_type": "execute_result"
    }
   ],
   "source": [
    "lemma.lemmatize('historical')"
   ]
  },
  {
   "cell_type": "code",
   "execution_count": 61,
   "id": "f364ca7c",
   "metadata": {},
   "outputs": [
    {
     "data": {
      "text/plain": [
       "'coming'"
      ]
     },
     "execution_count": 61,
     "metadata": {},
     "output_type": "execute_result"
    }
   ],
   "source": [
    "lemma.lemmatize('coming')"
   ]
  },
  {
   "cell_type": "code",
   "execution_count": 62,
   "id": "54200ce1",
   "metadata": {},
   "outputs": [
    {
     "name": "stdout",
     "output_type": "stream",
     "text": [
      "hate\n",
      "novel\n",
      "!\n"
     ]
    }
   ],
   "source": [
    "for i in df:\n",
    "  words = nltk.word_tokenize(i)\n",
    "  for i in words:\n",
    "    if i not in set(stopwords.words('english')):\n",
    "      print(lemma.lemmatize(i))\n",
    "      #proper google, powerful.. meaningful words are returned by lemmatization\n",
    "     "
   ]
  },
  {
   "cell_type": "markdown",
   "id": "d3fd3ed7",
   "metadata": {},
   "source": [
    "# Feature Extraction"
   ]
  },
  {
   "cell_type": "code",
   "execution_count": 63,
   "id": "c468d5a2",
   "metadata": {},
   "outputs": [],
   "source": [
    "# convert text data to BoW (Bag of Words) or TFIDF (Term Frequency - Inverse Document Frequency)\n",
    "# CountVectorizer - for BoW, TfidfVectorizer - for TFIDF\n",
    "import pandas as pd\n",
    "from sklearn.feature_extraction.text import CountVectorizer,TfidfVectorizer"
   ]
  },
  {
   "cell_type": "code",
   "execution_count": 64,
   "id": "b988785a",
   "metadata": {},
   "outputs": [
    {
     "data": {
      "text/plain": [
       "{'unnamed': 2, 'data': 0, 'labels': 1}"
      ]
     },
     "execution_count": 64,
     "metadata": {},
     "output_type": "execute_result"
    }
   ],
   "source": [
    "cv = CountVectorizer() # BoW - frequency will be displayed\n",
    "# Bag of Words (BoW) simply counts the frequency of words in a document.\n",
    "#cv = CountVectorizer(binary=True) # only binary weight will be displayed i.e. present or not\n",
    "x = cv.fit_transform(data)#\n",
    "cv.vocabulary_ # following words are taken as columns, no. represents index of each word\n",
    "#print(max(cv.vocabulary_))\n",
    "     "
   ]
  },
  {
   "cell_type": "code",
   "execution_count": 65,
   "id": "8a664046",
   "metadata": {},
   "outputs": [
    {
     "data": {
      "text/plain": [
       "array([[0, 0, 1]], dtype=int64)"
      ]
     },
     "execution_count": 65,
     "metadata": {},
     "output_type": "execute_result"
    }
   ],
   "source": [
    "# Now let us see what type of BoW it has created. BoW - gives frequency of term in document, Binary Weight - tells word is present or not\n",
    "# We can't directly print matrix x. so we need to convert it to array\n",
    "x[0].toarray() # BoW for 1st sentence,    'tensorflow': index is: 181. It occurred 2 times in 1st sentence. Check corpus[0].\n",
    "    "
   ]
  },
  {
   "cell_type": "code",
   "execution_count": 66,
   "id": "96f6e2ee",
   "metadata": {},
   "outputs": [
    {
     "data": {
      "text/plain": [
       "'i'"
      ]
     },
     "execution_count": 66,
     "metadata": {},
     "output_type": "execute_result"
    }
   ],
   "source": [
    "df[0] # for this sentence above BoW is created. Why does it contain more values than the no. of words in this sentence?\n",
    "# Column contains all unique words."
   ]
  },
  {
   "cell_type": "code",
   "execution_count": 67,
   "id": "6ee0ec5a",
   "metadata": {},
   "outputs": [
    {
     "data": {
      "text/html": [
       "<div>\n",
       "<style scoped>\n",
       "    .dataframe tbody tr th:only-of-type {\n",
       "        vertical-align: middle;\n",
       "    }\n",
       "\n",
       "    .dataframe tbody tr th {\n",
       "        vertical-align: top;\n",
       "    }\n",
       "\n",
       "    .dataframe thead th {\n",
       "        text-align: right;\n",
       "    }\n",
       "</style>\n",
       "<table border=\"1\" class=\"dataframe\">\n",
       "  <thead>\n",
       "    <tr style=\"text-align: right;\">\n",
       "      <th></th>\n",
       "      <th>data</th>\n",
       "      <th>labels</th>\n",
       "      <th>unnamed</th>\n",
       "    </tr>\n",
       "  </thead>\n",
       "  <tbody>\n",
       "    <tr>\n",
       "      <th>0</th>\n",
       "      <td>0</td>\n",
       "      <td>0</td>\n",
       "      <td>1</td>\n",
       "    </tr>\n",
       "    <tr>\n",
       "      <th>1</th>\n",
       "      <td>1</td>\n",
       "      <td>0</td>\n",
       "      <td>0</td>\n",
       "    </tr>\n",
       "    <tr>\n",
       "      <th>2</th>\n",
       "      <td>0</td>\n",
       "      <td>1</td>\n",
       "      <td>0</td>\n",
       "    </tr>\n",
       "  </tbody>\n",
       "</table>\n",
       "</div>"
      ],
      "text/plain": [
       "   data  labels  unnamed\n",
       "0     0       0        1\n",
       "1     1       0        0\n",
       "2     0       1        0"
      ]
     },
     "execution_count": 67,
     "metadata": {},
     "output_type": "execute_result"
    }
   ],
   "source": [
    "# convert array into dataframe, DTM - Document Term Matrix\n",
    "x = pd.DataFrame(x.toarray(),columns=cv.get_feature_names_out())\n",
    "x\n",
    "# for 'advanced' word index was 1 so it is present at colummn index no. 1\n",
    "# in 5th document word 'ai' is occuring for 2 times.\n",
    "# BoW - gives you frequency\n",
    "# Binary weights - tells whether word is present or not\n",
    "# If you don't want to print frequency in dataframe, keep binary=True in 'cv = CountVectonizer(binary=True)'"
   ]
  },
  {
   "cell_type": "markdown",
   "id": "4a923b27",
   "metadata": {},
   "source": [
    "# TF-IDF\n",
    "Term frequency works by looking at the frequency of a particular term you are concerned with relative to the document.\n",
    "\n",
    "Inverse document frequency looks at how common (or uncommon) a word is amongst the corpus.\n",
    "\n",
    "The highest scoring words of a document are the most relevant to that document."
   ]
  },
  {
   "cell_type": "code",
   "execution_count": 68,
   "id": "8b8c8111",
   "metadata": {},
   "outputs": [],
   "source": [
    "tf = TfidfVectorizer()\n",
    "x = tf.fit_transform(data)"
   ]
  },
  {
   "cell_type": "code",
   "execution_count": 69,
   "id": "3800aa12",
   "metadata": {},
   "outputs": [
    {
     "data": {
      "text/plain": [
       "array([[0., 0., 1.],\n",
       "       [1., 0., 0.],\n",
       "       [0., 1., 0.]])"
      ]
     },
     "execution_count": 69,
     "metadata": {},
     "output_type": "execute_result"
    }
   ],
   "source": [
    "# in tf-idf we will see weightage not 0 and 1\n",
    "x.toarray()"
   ]
  },
  {
   "cell_type": "code",
   "execution_count": 70,
   "id": "a6d8fde3",
   "metadata": {},
   "outputs": [
    {
     "data": {
      "text/html": [
       "<div>\n",
       "<style scoped>\n",
       "    .dataframe tbody tr th:only-of-type {\n",
       "        vertical-align: middle;\n",
       "    }\n",
       "\n",
       "    .dataframe tbody tr th {\n",
       "        vertical-align: top;\n",
       "    }\n",
       "\n",
       "    .dataframe thead th {\n",
       "        text-align: right;\n",
       "    }\n",
       "</style>\n",
       "<table border=\"1\" class=\"dataframe\">\n",
       "  <thead>\n",
       "    <tr style=\"text-align: right;\">\n",
       "      <th></th>\n",
       "      <th>data</th>\n",
       "      <th>labels</th>\n",
       "      <th>unnamed</th>\n",
       "    </tr>\n",
       "  </thead>\n",
       "  <tbody>\n",
       "    <tr>\n",
       "      <th>0</th>\n",
       "      <td>0.0</td>\n",
       "      <td>0.0</td>\n",
       "      <td>1.0</td>\n",
       "    </tr>\n",
       "    <tr>\n",
       "      <th>1</th>\n",
       "      <td>1.0</td>\n",
       "      <td>0.0</td>\n",
       "      <td>0.0</td>\n",
       "    </tr>\n",
       "    <tr>\n",
       "      <th>2</th>\n",
       "      <td>0.0</td>\n",
       "      <td>1.0</td>\n",
       "      <td>0.0</td>\n",
       "    </tr>\n",
       "  </tbody>\n",
       "</table>\n",
       "</div>"
      ],
      "text/plain": [
       "   data  labels  unnamed\n",
       "0   0.0     0.0      1.0\n",
       "1   1.0     0.0      0.0\n",
       "2   0.0     1.0      0.0"
      ]
     },
     "execution_count": 70,
     "metadata": {},
     "output_type": "execute_result"
    }
   ],
   "source": [
    "#convert it into dataframe\n",
    "x = pd.DataFrame(x.toarray(),columns = tf.get_feature_names_out()) #get_feature_names_out() - gives you list of unique words inside corpus\n",
    "x # here we are retaining information related to the frequency of words, TDM-Term Document Frequency"
   ]
  },
  {
   "cell_type": "code",
   "execution_count": 71,
   "id": "38d392c9",
   "metadata": {},
   "outputs": [
    {
     "data": {
      "text/plain": [
       "(3, 3)"
      ]
     },
     "execution_count": 71,
     "metadata": {},
     "output_type": "execute_result"
    }
   ],
   "source": [
    "x.shape"
   ]
  },
  {
   "cell_type": "code",
   "execution_count": 72,
   "id": "111a13b9",
   "metadata": {},
   "outputs": [
    {
     "data": {
      "text/plain": [
       "array(['data', 'labels', 'unnamed'], dtype=object)"
      ]
     },
     "execution_count": 72,
     "metadata": {},
     "output_type": "execute_result"
    }
   ],
   "source": [
    "tf.get_feature_names_out()"
   ]
  },
  {
   "cell_type": "code",
   "execution_count": 73,
   "id": "54d321cc",
   "metadata": {},
   "outputs": [
    {
     "data": {
      "text/plain": [
       "3"
      ]
     },
     "execution_count": 73,
     "metadata": {},
     "output_type": "execute_result"
    }
   ],
   "source": [
    "len(tf.get_feature_names_out())"
   ]
  },
  {
   "cell_type": "code",
   "execution_count": 75,
   "id": "7af7a179",
   "metadata": {},
   "outputs": [],
   "source": [
    "import pandas as pd\n",
    "import matplotlib.pyplot as plt\n",
    "plt.rcParams['figure.figsize'] = (10,5)\n",
    "plt.rcParams['figure.dpi'] = 300\n",
    "import seaborn as sns\n",
    "sns.set_theme(style='darkgrid', palette='rainbow')\n",
    "%matplotlib inline\n"
   ]
  },
  {
   "cell_type": "code",
   "execution_count": 77,
   "id": "48fe46aa",
   "metadata": {},
   "outputs": [
    {
     "data": {
      "text/html": [
       "<div>\n",
       "<style scoped>\n",
       "    .dataframe tbody tr th:only-of-type {\n",
       "        vertical-align: middle;\n",
       "    }\n",
       "\n",
       "    .dataframe tbody tr th {\n",
       "        vertical-align: top;\n",
       "    }\n",
       "\n",
       "    .dataframe thead th {\n",
       "        text-align: right;\n",
       "    }\n",
       "</style>\n",
       "<table border=\"1\" class=\"dataframe\">\n",
       "  <thead>\n",
       "    <tr style=\"text-align: right;\">\n",
       "      <th></th>\n",
       "      <th>Unnamed: 0</th>\n",
       "      <th>Data</th>\n",
       "      <th>Labels</th>\n",
       "    </tr>\n",
       "  </thead>\n",
       "  <tbody>\n",
       "    <tr>\n",
       "      <th>0</th>\n",
       "      <td>0</td>\n",
       "      <td>Xref: cantaloupe.srv.cs.cmu.edu alt.atheism:49...</td>\n",
       "      <td>alt.atheism</td>\n",
       "    </tr>\n",
       "    <tr>\n",
       "      <th>1</th>\n",
       "      <td>1</td>\n",
       "      <td>Xref: cantaloupe.srv.cs.cmu.edu alt.atheism:51...</td>\n",
       "      <td>alt.atheism</td>\n",
       "    </tr>\n",
       "    <tr>\n",
       "      <th>2</th>\n",
       "      <td>2</td>\n",
       "      <td>Newsgroups: alt.atheism\\nPath: cantaloupe.srv....</td>\n",
       "      <td>alt.atheism</td>\n",
       "    </tr>\n",
       "    <tr>\n",
       "      <th>3</th>\n",
       "      <td>3</td>\n",
       "      <td>Xref: cantaloupe.srv.cs.cmu.edu alt.atheism:51...</td>\n",
       "      <td>alt.atheism</td>\n",
       "    </tr>\n",
       "    <tr>\n",
       "      <th>4</th>\n",
       "      <td>4</td>\n",
       "      <td>Xref: cantaloupe.srv.cs.cmu.edu alt.atheism:51...</td>\n",
       "      <td>alt.atheism</td>\n",
       "    </tr>\n",
       "    <tr>\n",
       "      <th>...</th>\n",
       "      <td>...</td>\n",
       "      <td>...</td>\n",
       "      <td>...</td>\n",
       "    </tr>\n",
       "    <tr>\n",
       "      <th>19992</th>\n",
       "      <td>19992</td>\n",
       "      <td>Xref: cantaloupe.srv.cs.cmu.edu alt.atheism:54...</td>\n",
       "      <td>talk.religion.misc</td>\n",
       "    </tr>\n",
       "    <tr>\n",
       "      <th>19993</th>\n",
       "      <td>19993</td>\n",
       "      <td>Xref: cantaloupe.srv.cs.cmu.edu alt.atheism:54...</td>\n",
       "      <td>talk.religion.misc</td>\n",
       "    </tr>\n",
       "    <tr>\n",
       "      <th>19994</th>\n",
       "      <td>19994</td>\n",
       "      <td>Xref: cantaloupe.srv.cs.cmu.edu talk.religion....</td>\n",
       "      <td>talk.religion.misc</td>\n",
       "    </tr>\n",
       "    <tr>\n",
       "      <th>19995</th>\n",
       "      <td>19995</td>\n",
       "      <td>Xref: cantaloupe.srv.cs.cmu.edu talk.religion....</td>\n",
       "      <td>talk.religion.misc</td>\n",
       "    </tr>\n",
       "    <tr>\n",
       "      <th>19996</th>\n",
       "      <td>19996</td>\n",
       "      <td>Xref: cantaloupe.srv.cs.cmu.edu talk.abortion:...</td>\n",
       "      <td>talk.religion.misc</td>\n",
       "    </tr>\n",
       "  </tbody>\n",
       "</table>\n",
       "<p>19997 rows × 3 columns</p>\n",
       "</div>"
      ],
      "text/plain": [
       "       Unnamed: 0                                               Data  \\\n",
       "0               0  Xref: cantaloupe.srv.cs.cmu.edu alt.atheism:49...   \n",
       "1               1  Xref: cantaloupe.srv.cs.cmu.edu alt.atheism:51...   \n",
       "2               2  Newsgroups: alt.atheism\\nPath: cantaloupe.srv....   \n",
       "3               3  Xref: cantaloupe.srv.cs.cmu.edu alt.atheism:51...   \n",
       "4               4  Xref: cantaloupe.srv.cs.cmu.edu alt.atheism:51...   \n",
       "...           ...                                                ...   \n",
       "19992       19992  Xref: cantaloupe.srv.cs.cmu.edu alt.atheism:54...   \n",
       "19993       19993  Xref: cantaloupe.srv.cs.cmu.edu alt.atheism:54...   \n",
       "19994       19994  Xref: cantaloupe.srv.cs.cmu.edu talk.religion....   \n",
       "19995       19995  Xref: cantaloupe.srv.cs.cmu.edu talk.religion....   \n",
       "19996       19996  Xref: cantaloupe.srv.cs.cmu.edu talk.abortion:...   \n",
       "\n",
       "                   Labels  \n",
       "0             alt.atheism  \n",
       "1             alt.atheism  \n",
       "2             alt.atheism  \n",
       "3             alt.atheism  \n",
       "4             alt.atheism  \n",
       "...                   ...  \n",
       "19992  talk.religion.misc  \n",
       "19993  talk.religion.misc  \n",
       "19994  talk.religion.misc  \n",
       "19995  talk.religion.misc  \n",
       "19996  talk.religion.misc  \n",
       "\n",
       "[19997 rows x 3 columns]"
      ]
     },
     "execution_count": 77,
     "metadata": {},
     "output_type": "execute_result"
    }
   ],
   "source": [
    "\n",
    "df = pd.read_csv('blogs_categories.csv')\n",
    "df"
   ]
  },
  {
   "cell_type": "code",
   "execution_count": 78,
   "id": "5f525d4f",
   "metadata": {},
   "outputs": [
    {
     "name": "stdout",
     "output_type": "stream",
     "text": [
      "<class 'pandas.core.frame.DataFrame'>\n",
      "RangeIndex: 19997 entries, 0 to 19996\n",
      "Data columns (total 3 columns):\n",
      " #   Column      Non-Null Count  Dtype \n",
      "---  ------      --------------  ----- \n",
      " 0   Unnamed: 0  19997 non-null  int64 \n",
      " 1   Data        19997 non-null  object\n",
      " 2   Labels      19997 non-null  object\n",
      "dtypes: int64(1), object(2)\n",
      "memory usage: 468.8+ KB\n"
     ]
    }
   ],
   "source": [
    "df.info()"
   ]
  },
  {
   "cell_type": "code",
   "execution_count": 79,
   "id": "c86f54a6",
   "metadata": {},
   "outputs": [
    {
     "data": {
      "text/plain": [
       "(19997, 3)"
      ]
     },
     "execution_count": 79,
     "metadata": {},
     "output_type": "execute_result"
    }
   ],
   "source": [
    "df.shape"
   ]
  },
  {
   "cell_type": "code",
   "execution_count": 91,
   "id": "8ea682e9",
   "metadata": {},
   "outputs": [
    {
     "ename": "TypeError",
     "evalue": "Only valid with DatetimeIndex, TimedeltaIndex or PeriodIndex, but got an instance of 'RangeIndex'",
     "output_type": "error",
     "traceback": [
      "\u001b[1;31m---------------------------------------------------------------------------\u001b[0m",
      "\u001b[1;31mTypeError\u001b[0m                                 Traceback (most recent call last)",
      "Cell \u001b[1;32mIn[91], line 1\u001b[0m\n\u001b[1;32m----> 1\u001b[0m downsampled \u001b[38;5;241m=\u001b[39m \u001b[43mdf\u001b[49m\u001b[38;5;241;43m.\u001b[39;49m\u001b[43mresample\u001b[49m\u001b[43m(\u001b[49m\u001b[38;5;124;43m'\u001b[39;49m\u001b[38;5;124;43mQ\u001b[39;49m\u001b[38;5;124;43m'\u001b[39;49m\u001b[43m)\u001b[49m\u001b[38;5;241m.\u001b[39mmean()\n\u001b[0;32m      2\u001b[0m downsampled\n",
      "File \u001b[1;32m~\\anaconda3\\lib\\site-packages\\pandas\\core\\frame.py:11392\u001b[0m, in \u001b[0;36mDataFrame.resample\u001b[1;34m(self, rule, axis, closed, label, convention, kind, loffset, base, on, level, origin, offset, group_keys)\u001b[0m\n\u001b[0;32m  11375\u001b[0m \u001b[38;5;129m@doc\u001b[39m(NDFrame\u001b[38;5;241m.\u001b[39mresample, \u001b[38;5;241m*\u001b[39m\u001b[38;5;241m*\u001b[39m_shared_doc_kwargs)\n\u001b[0;32m  11376\u001b[0m \u001b[38;5;28;01mdef\u001b[39;00m \u001b[38;5;21mresample\u001b[39m(\n\u001b[0;32m  11377\u001b[0m     \u001b[38;5;28mself\u001b[39m,\n\u001b[1;32m   (...)\u001b[0m\n\u001b[0;32m  11390\u001b[0m     group_keys: \u001b[38;5;28mbool\u001b[39m \u001b[38;5;241m|\u001b[39m lib\u001b[38;5;241m.\u001b[39mNoDefault \u001b[38;5;241m=\u001b[39m no_default,\n\u001b[0;32m  11391\u001b[0m ) \u001b[38;5;241m-\u001b[39m\u001b[38;5;241m>\u001b[39m Resampler:\n\u001b[1;32m> 11392\u001b[0m     \u001b[38;5;28;01mreturn\u001b[39;00m \u001b[38;5;28;43msuper\u001b[39;49m\u001b[43m(\u001b[49m\u001b[43m)\u001b[49m\u001b[38;5;241;43m.\u001b[39;49m\u001b[43mresample\u001b[49m\u001b[43m(\u001b[49m\n\u001b[0;32m  11393\u001b[0m \u001b[43m        \u001b[49m\u001b[43mrule\u001b[49m\u001b[38;5;241;43m=\u001b[39;49m\u001b[43mrule\u001b[49m\u001b[43m,\u001b[49m\n\u001b[0;32m  11394\u001b[0m \u001b[43m        \u001b[49m\u001b[43maxis\u001b[49m\u001b[38;5;241;43m=\u001b[39;49m\u001b[43maxis\u001b[49m\u001b[43m,\u001b[49m\n\u001b[0;32m  11395\u001b[0m \u001b[43m        \u001b[49m\u001b[43mclosed\u001b[49m\u001b[38;5;241;43m=\u001b[39;49m\u001b[43mclosed\u001b[49m\u001b[43m,\u001b[49m\n\u001b[0;32m  11396\u001b[0m \u001b[43m        \u001b[49m\u001b[43mlabel\u001b[49m\u001b[38;5;241;43m=\u001b[39;49m\u001b[43mlabel\u001b[49m\u001b[43m,\u001b[49m\n\u001b[0;32m  11397\u001b[0m \u001b[43m        \u001b[49m\u001b[43mconvention\u001b[49m\u001b[38;5;241;43m=\u001b[39;49m\u001b[43mconvention\u001b[49m\u001b[43m,\u001b[49m\n\u001b[0;32m  11398\u001b[0m \u001b[43m        \u001b[49m\u001b[43mkind\u001b[49m\u001b[38;5;241;43m=\u001b[39;49m\u001b[43mkind\u001b[49m\u001b[43m,\u001b[49m\n\u001b[0;32m  11399\u001b[0m \u001b[43m        \u001b[49m\u001b[43mloffset\u001b[49m\u001b[38;5;241;43m=\u001b[39;49m\u001b[43mloffset\u001b[49m\u001b[43m,\u001b[49m\n\u001b[0;32m  11400\u001b[0m \u001b[43m        \u001b[49m\u001b[43mbase\u001b[49m\u001b[38;5;241;43m=\u001b[39;49m\u001b[43mbase\u001b[49m\u001b[43m,\u001b[49m\n\u001b[0;32m  11401\u001b[0m \u001b[43m        \u001b[49m\u001b[43mon\u001b[49m\u001b[38;5;241;43m=\u001b[39;49m\u001b[43mon\u001b[49m\u001b[43m,\u001b[49m\n\u001b[0;32m  11402\u001b[0m \u001b[43m        \u001b[49m\u001b[43mlevel\u001b[49m\u001b[38;5;241;43m=\u001b[39;49m\u001b[43mlevel\u001b[49m\u001b[43m,\u001b[49m\n\u001b[0;32m  11403\u001b[0m \u001b[43m        \u001b[49m\u001b[43morigin\u001b[49m\u001b[38;5;241;43m=\u001b[39;49m\u001b[43morigin\u001b[49m\u001b[43m,\u001b[49m\n\u001b[0;32m  11404\u001b[0m \u001b[43m        \u001b[49m\u001b[43moffset\u001b[49m\u001b[38;5;241;43m=\u001b[39;49m\u001b[43moffset\u001b[49m\u001b[43m,\u001b[49m\n\u001b[0;32m  11405\u001b[0m \u001b[43m        \u001b[49m\u001b[43mgroup_keys\u001b[49m\u001b[38;5;241;43m=\u001b[39;49m\u001b[43mgroup_keys\u001b[49m\u001b[43m,\u001b[49m\n\u001b[0;32m  11406\u001b[0m \u001b[43m    \u001b[49m\u001b[43m)\u001b[49m\n",
      "File \u001b[1;32m~\\anaconda3\\lib\\site-packages\\pandas\\core\\generic.py:8858\u001b[0m, in \u001b[0;36mNDFrame.resample\u001b[1;34m(self, rule, axis, closed, label, convention, kind, loffset, base, on, level, origin, offset, group_keys)\u001b[0m\n\u001b[0;32m   8855\u001b[0m \u001b[38;5;28;01mfrom\u001b[39;00m \u001b[38;5;21;01mpandas\u001b[39;00m\u001b[38;5;21;01m.\u001b[39;00m\u001b[38;5;21;01mcore\u001b[39;00m\u001b[38;5;21;01m.\u001b[39;00m\u001b[38;5;21;01mresample\u001b[39;00m \u001b[38;5;28;01mimport\u001b[39;00m get_resampler\n\u001b[0;32m   8857\u001b[0m axis \u001b[38;5;241m=\u001b[39m \u001b[38;5;28mself\u001b[39m\u001b[38;5;241m.\u001b[39m_get_axis_number(axis)\n\u001b[1;32m-> 8858\u001b[0m \u001b[38;5;28;01mreturn\u001b[39;00m \u001b[43mget_resampler\u001b[49m\u001b[43m(\u001b[49m\n\u001b[0;32m   8859\u001b[0m \u001b[43m    \u001b[49m\u001b[38;5;28;43mself\u001b[39;49m\u001b[43m,\u001b[49m\n\u001b[0;32m   8860\u001b[0m \u001b[43m    \u001b[49m\u001b[43mfreq\u001b[49m\u001b[38;5;241;43m=\u001b[39;49m\u001b[43mrule\u001b[49m\u001b[43m,\u001b[49m\n\u001b[0;32m   8861\u001b[0m \u001b[43m    \u001b[49m\u001b[43mlabel\u001b[49m\u001b[38;5;241;43m=\u001b[39;49m\u001b[43mlabel\u001b[49m\u001b[43m,\u001b[49m\n\u001b[0;32m   8862\u001b[0m \u001b[43m    \u001b[49m\u001b[43mclosed\u001b[49m\u001b[38;5;241;43m=\u001b[39;49m\u001b[43mclosed\u001b[49m\u001b[43m,\u001b[49m\n\u001b[0;32m   8863\u001b[0m \u001b[43m    \u001b[49m\u001b[43maxis\u001b[49m\u001b[38;5;241;43m=\u001b[39;49m\u001b[43maxis\u001b[49m\u001b[43m,\u001b[49m\n\u001b[0;32m   8864\u001b[0m \u001b[43m    \u001b[49m\u001b[43mkind\u001b[49m\u001b[38;5;241;43m=\u001b[39;49m\u001b[43mkind\u001b[49m\u001b[43m,\u001b[49m\n\u001b[0;32m   8865\u001b[0m \u001b[43m    \u001b[49m\u001b[43mloffset\u001b[49m\u001b[38;5;241;43m=\u001b[39;49m\u001b[43mloffset\u001b[49m\u001b[43m,\u001b[49m\n\u001b[0;32m   8866\u001b[0m \u001b[43m    \u001b[49m\u001b[43mconvention\u001b[49m\u001b[38;5;241;43m=\u001b[39;49m\u001b[43mconvention\u001b[49m\u001b[43m,\u001b[49m\n\u001b[0;32m   8867\u001b[0m \u001b[43m    \u001b[49m\u001b[43mbase\u001b[49m\u001b[38;5;241;43m=\u001b[39;49m\u001b[43mbase\u001b[49m\u001b[43m,\u001b[49m\n\u001b[0;32m   8868\u001b[0m \u001b[43m    \u001b[49m\u001b[43mkey\u001b[49m\u001b[38;5;241;43m=\u001b[39;49m\u001b[43mon\u001b[49m\u001b[43m,\u001b[49m\n\u001b[0;32m   8869\u001b[0m \u001b[43m    \u001b[49m\u001b[43mlevel\u001b[49m\u001b[38;5;241;43m=\u001b[39;49m\u001b[43mlevel\u001b[49m\u001b[43m,\u001b[49m\n\u001b[0;32m   8870\u001b[0m \u001b[43m    \u001b[49m\u001b[43morigin\u001b[49m\u001b[38;5;241;43m=\u001b[39;49m\u001b[43morigin\u001b[49m\u001b[43m,\u001b[49m\n\u001b[0;32m   8871\u001b[0m \u001b[43m    \u001b[49m\u001b[43moffset\u001b[49m\u001b[38;5;241;43m=\u001b[39;49m\u001b[43moffset\u001b[49m\u001b[43m,\u001b[49m\n\u001b[0;32m   8872\u001b[0m \u001b[43m    \u001b[49m\u001b[43mgroup_keys\u001b[49m\u001b[38;5;241;43m=\u001b[39;49m\u001b[43mgroup_keys\u001b[49m\u001b[43m,\u001b[49m\n\u001b[0;32m   8873\u001b[0m \u001b[43m\u001b[49m\u001b[43m)\u001b[49m\n",
      "File \u001b[1;32m~\\anaconda3\\lib\\site-packages\\pandas\\core\\resample.py:1544\u001b[0m, in \u001b[0;36mget_resampler\u001b[1;34m(obj, kind, **kwds)\u001b[0m\n\u001b[0;32m   1540\u001b[0m \u001b[38;5;250m\u001b[39m\u001b[38;5;124;03m\"\"\"\u001b[39;00m\n\u001b[0;32m   1541\u001b[0m \u001b[38;5;124;03mCreate a TimeGrouper and return our resampler.\u001b[39;00m\n\u001b[0;32m   1542\u001b[0m \u001b[38;5;124;03m\"\"\"\u001b[39;00m\n\u001b[0;32m   1543\u001b[0m tg \u001b[38;5;241m=\u001b[39m TimeGrouper(\u001b[38;5;241m*\u001b[39m\u001b[38;5;241m*\u001b[39mkwds)\n\u001b[1;32m-> 1544\u001b[0m \u001b[38;5;28;01mreturn\u001b[39;00m \u001b[43mtg\u001b[49m\u001b[38;5;241;43m.\u001b[39;49m\u001b[43m_get_resampler\u001b[49m\u001b[43m(\u001b[49m\u001b[43mobj\u001b[49m\u001b[43m,\u001b[49m\u001b[43m \u001b[49m\u001b[43mkind\u001b[49m\u001b[38;5;241;43m=\u001b[39;49m\u001b[43mkind\u001b[49m\u001b[43m)\u001b[49m\n",
      "File \u001b[1;32m~\\anaconda3\\lib\\site-packages\\pandas\\core\\resample.py:1725\u001b[0m, in \u001b[0;36mTimeGrouper._get_resampler\u001b[1;34m(self, obj, kind)\u001b[0m\n\u001b[0;32m   1720\u001b[0m \u001b[38;5;28;01melif\u001b[39;00m \u001b[38;5;28misinstance\u001b[39m(ax, TimedeltaIndex):\n\u001b[0;32m   1721\u001b[0m     \u001b[38;5;28;01mreturn\u001b[39;00m TimedeltaIndexResampler(\n\u001b[0;32m   1722\u001b[0m         obj, groupby\u001b[38;5;241m=\u001b[39m\u001b[38;5;28mself\u001b[39m, axis\u001b[38;5;241m=\u001b[39m\u001b[38;5;28mself\u001b[39m\u001b[38;5;241m.\u001b[39maxis, group_keys\u001b[38;5;241m=\u001b[39m\u001b[38;5;28mself\u001b[39m\u001b[38;5;241m.\u001b[39mgroup_keys\n\u001b[0;32m   1723\u001b[0m     )\n\u001b[1;32m-> 1725\u001b[0m \u001b[38;5;28;01mraise\u001b[39;00m \u001b[38;5;167;01mTypeError\u001b[39;00m(\n\u001b[0;32m   1726\u001b[0m     \u001b[38;5;124m\"\u001b[39m\u001b[38;5;124mOnly valid with DatetimeIndex, \u001b[39m\u001b[38;5;124m\"\u001b[39m\n\u001b[0;32m   1727\u001b[0m     \u001b[38;5;124m\"\u001b[39m\u001b[38;5;124mTimedeltaIndex or PeriodIndex, \u001b[39m\u001b[38;5;124m\"\u001b[39m\n\u001b[0;32m   1728\u001b[0m     \u001b[38;5;124mf\u001b[39m\u001b[38;5;124m\"\u001b[39m\u001b[38;5;124mbut got an instance of \u001b[39m\u001b[38;5;124m'\u001b[39m\u001b[38;5;132;01m{\u001b[39;00m\u001b[38;5;28mtype\u001b[39m(ax)\u001b[38;5;241m.\u001b[39m\u001b[38;5;18m__name__\u001b[39m\u001b[38;5;132;01m}\u001b[39;00m\u001b[38;5;124m'\u001b[39m\u001b[38;5;124m\"\u001b[39m\n\u001b[0;32m   1729\u001b[0m )\n",
      "\u001b[1;31mTypeError\u001b[0m: Only valid with DatetimeIndex, TimedeltaIndex or PeriodIndex, but got an instance of 'RangeIndex'"
     ]
    }
   ],
   "source": [
    "downsampled = df.resample('Q').mean()\n",
    "downsampled"
   ]
  },
  {
   "cell_type": "code",
   "execution_count": null,
   "id": "9fc7512a",
   "metadata": {},
   "outputs": [],
   "source": []
  }
 ],
 "metadata": {
  "kernelspec": {
   "display_name": "Python 3 (ipykernel)",
   "language": "python",
   "name": "python3"
  },
  "language_info": {
   "codemirror_mode": {
    "name": "ipython",
    "version": 3
   },
   "file_extension": ".py",
   "mimetype": "text/x-python",
   "name": "python",
   "nbconvert_exporter": "python",
   "pygments_lexer": "ipython3",
   "version": "3.10.9"
  }
 },
 "nbformat": 4,
 "nbformat_minor": 5
}
