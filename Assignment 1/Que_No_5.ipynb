{
 "cells": [
  {
   "cell_type": "code",
   "execution_count": 1,
   "id": "d7565d90",
   "metadata": {},
   "outputs": [],
   "source": [
    "# Define the number of each colored ball\n",
    "red_balls = 2\n",
    "green_balls = 3\n",
    "blue_balls = 2"
   ]
  },
  {
   "cell_type": "code",
   "execution_count": 2,
   "id": "013cba4b",
   "metadata": {},
   "outputs": [],
   "source": [
    "# Total number of balls in the bag\n",
    "total_balls = red_balls + green_balls + blue_balls"
   ]
  },
  {
   "cell_type": "code",
   "execution_count": 3,
   "id": "262c2056",
   "metadata": {},
   "outputs": [],
   "source": [
    "# Probability of drawing a non-blue ball on the first draw\n",
    "prob_non_blue_first_draw = (red_balls + green_balls) / total_balls"
   ]
  },
  {
   "cell_type": "code",
   "execution_count": 4,
   "id": "965ed540",
   "metadata": {},
   "outputs": [],
   "source": [
    "# Probability of drawing a non-blue ball on the second draw (without replacement)\n",
    "prob_non_blue_second_draw = (red_balls + green_balls) / (total_balls - 1)"
   ]
  },
  {
   "cell_type": "code",
   "execution_count": 5,
   "id": "f6832044",
   "metadata": {},
   "outputs": [],
   "source": [
    "# Probability of drawing none blue in both draws\n",
    "prob_none_blue = prob_non_blue_first_draw * prob_non_blue_second_draw\n"
   ]
  },
  {
   "cell_type": "code",
   "execution_count": 6,
   "id": "6e6a03a2",
   "metadata": {},
   "outputs": [
    {
     "name": "stdout",
     "output_type": "stream",
     "text": [
      "Probability that none of the balls drawn is blue: 0.5952380952380952\n"
     ]
    }
   ],
   "source": [
    "print(\"Probability that none of the balls drawn is blue:\", prob_none_blue)"
   ]
  },
  {
   "cell_type": "code",
   "execution_count": null,
   "id": "4336f8bf",
   "metadata": {},
   "outputs": [],
   "source": []
  }
 ],
 "metadata": {
  "kernelspec": {
   "display_name": "Python 3 (ipykernel)",
   "language": "python",
   "name": "python3"
  },
  "language_info": {
   "codemirror_mode": {
    "name": "ipython",
    "version": 3
   },
   "file_extension": ".py",
   "mimetype": "text/x-python",
   "name": "python",
   "nbconvert_exporter": "python",
   "pygments_lexer": "ipython3",
   "version": "3.10.9"
  }
 },
 "nbformat": 4,
 "nbformat_minor": 5
}
