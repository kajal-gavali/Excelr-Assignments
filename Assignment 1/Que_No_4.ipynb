{
 "cells": [
  {
   "cell_type": "code",
   "execution_count": 1,
   "id": "c855f31e",
   "metadata": {},
   "outputs": [],
   "source": [
    "# Define the number of sides on each die\n",
    "sides_on_die = 6"
   ]
  },
  {
   "cell_type": "code",
   "execution_count": 2,
   "id": "4e9355ff",
   "metadata": {},
   "outputs": [],
   "source": [
    "# Total number of possible outcomes when two dice are rolled\n",
    "total_outcomes = sides_on_die ** 2\n"
   ]
  },
  {
   "cell_type": "code",
   "execution_count": 3,
   "id": "e02180cb",
   "metadata": {},
   "outputs": [
    {
     "data": {
      "text/plain": [
       "36"
      ]
     },
     "execution_count": 3,
     "metadata": {},
     "output_type": "execute_result"
    }
   ],
   "source": [
    "total_outcomes"
   ]
  },
  {
   "cell_type": "code",
   "execution_count": 4,
   "id": "28f0fa70",
   "metadata": {},
   "outputs": [],
   "source": [
    "# Function to calculate probability\n",
    "def calculate_probability(event_outcomes, total_outcomes):\n",
    "    return event_outcomes / total_outcomes"
   ]
  },
  {
   "cell_type": "code",
   "execution_count": 5,
   "id": "b314065a",
   "metadata": {},
   "outputs": [
    {
     "name": "stdout",
     "output_type": "stream",
     "text": [
      "Probability that sum is equal to 1: 0.0\n"
     ]
    }
   ],
   "source": [
    "# a) Probability that sum is equal to 1\n",
    "sum_1_outcomes = 0  # No possible outcomes result in a sum of 1\n",
    "prob_sum_1 = calculate_probability(sum_1_outcomes, total_outcomes)\n",
    "print(\"Probability that sum is equal to 1:\", prob_sum_1)\n"
   ]
  },
  {
   "cell_type": "code",
   "execution_count": 6,
   "id": "ab9e1de2",
   "metadata": {},
   "outputs": [
    {
     "name": "stdout",
     "output_type": "stream",
     "text": [
      "Probability that sum is less than or equal to 4: 0.08333333333333333\n"
     ]
    }
   ],
   "source": [
    "# b) Probability that sum is less than or equal to 4\n",
    "sum_4_outcomes = 3  # Possible outcomes: (1, 3), (2, 2), (3, 1)\n",
    "prob_sum_4 = calculate_probability(sum_4_outcomes, total_outcomes)\n",
    "print(\"Probability that sum is less than or equal to 4:\", prob_sum_4)\n"
   ]
  },
  {
   "cell_type": "code",
   "execution_count": 7,
   "id": "30db881d",
   "metadata": {},
   "outputs": [
    {
     "name": "stdout",
     "output_type": "stream",
     "text": [
      "Probability that sum is divisible by 2 and 3: 0.1388888888888889\n"
     ]
    }
   ],
   "source": [
    "# c) Probability that sum is divisible by 2 and 3\n",
    "# Possible outcomes: (1, 5), (2, 4), (3, 3), (4, 2), (5, 1)\n",
    "sum_divisible_by_2_and_3_outcomes = 5\n",
    "prob_sum_divisible_by_2_and_3 = calculate_probability(sum_divisible_by_2_and_3_outcomes, total_outcomes)\n",
    "print(\"Probability that sum is divisible by 2 and 3:\", prob_sum_divisible_by_2_and_3)"
   ]
  },
  {
   "cell_type": "code",
   "execution_count": null,
   "id": "87af5b8a",
   "metadata": {},
   "outputs": [],
   "source": []
  }
 ],
 "metadata": {
  "kernelspec": {
   "display_name": "Python 3 (ipykernel)",
   "language": "python",
   "name": "python3"
  },
  "language_info": {
   "codemirror_mode": {
    "name": "ipython",
    "version": 3
   },
   "file_extension": ".py",
   "mimetype": "text/x-python",
   "name": "python",
   "nbconvert_exporter": "python",
   "pygments_lexer": "ipython3",
   "version": "3.10.9"
  }
 },
 "nbformat": 4,
 "nbformat_minor": 5
}
