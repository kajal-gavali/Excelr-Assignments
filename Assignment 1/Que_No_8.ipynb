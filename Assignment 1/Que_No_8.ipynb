{
 "cells": [
  {
   "cell_type": "code",
   "execution_count": 1,
   "id": "e77faf09",
   "metadata": {},
   "outputs": [],
   "source": [
    "import numpy as np"
   ]
  },
  {
   "cell_type": "code",
   "execution_count": 23,
   "id": "ac2cb428",
   "metadata": {},
   "outputs": [],
   "source": [
    "weight=[108,110,123,134,135,145,167,187,199]"
   ]
  },
  {
   "cell_type": "code",
   "execution_count": 24,
   "id": "b083f794",
   "metadata": {},
   "outputs": [],
   "source": [
    "#expected value of the weight\n",
    "expectedvalue=sum(weight)/len(weight)"
   ]
  },
  {
   "cell_type": "code",
   "execution_count": 25,
   "id": "bfbd0333",
   "metadata": {},
   "outputs": [
    {
     "data": {
      "text/plain": [
       "145.33333333333334"
      ]
     },
     "execution_count": 25,
     "metadata": {},
     "output_type": "execute_result"
    }
   ],
   "source": [
    "expectedvalue"
   ]
  },
  {
   "cell_type": "code",
   "execution_count": 26,
   "id": "a0d89c28",
   "metadata": {},
   "outputs": [
    {
     "name": "stdout",
     "output_type": "stream",
     "text": [
      "expectedvalue(mean)of the weight of that patient:(145.33) pounds\n"
     ]
    }
   ],
   "source": [
    "print(\"expectedvalue(mean)of the weight of that patient:(145.33) pounds\")"
   ]
  },
  {
   "cell_type": "code",
   "execution_count": 27,
   "id": "6672984b",
   "metadata": {},
   "outputs": [],
   "source": [
    "cn=1/9"
   ]
  },
  {
   "cell_type": "code",
   "execution_count": 28,
   "id": "abc34f90",
   "metadata": {},
   "outputs": [
    {
     "data": {
      "text/plain": [
       "0.1111111111111111"
      ]
     },
     "execution_count": 28,
     "metadata": {},
     "output_type": "execute_result"
    }
   ],
   "source": [
    "cn"
   ]
  },
  {
   "cell_type": "code",
   "execution_count": null,
   "id": "fce5e257",
   "metadata": {},
   "outputs": [],
   "source": []
  }
 ],
 "metadata": {
  "kernelspec": {
   "display_name": "Python 3 (ipykernel)",
   "language": "python",
   "name": "python3"
  },
  "language_info": {
   "codemirror_mode": {
    "name": "ipython",
    "version": 3
   },
   "file_extension": ".py",
   "mimetype": "text/x-python",
   "name": "python",
   "nbconvert_exporter": "python",
   "pygments_lexer": "ipython3",
   "version": "3.10.9"
  }
 },
 "nbformat": 4,
 "nbformat_minor": 5
}
