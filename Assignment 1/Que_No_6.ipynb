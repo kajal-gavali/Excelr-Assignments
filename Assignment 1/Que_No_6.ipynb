{
 "cells": [
  {
   "cell_type": "code",
   "execution_count": 1,
   "id": "f3446e41",
   "metadata": {},
   "outputs": [],
   "source": [
    "import numpy as np"
   ]
  },
  {
   "cell_type": "code",
   "execution_count": 10,
   "id": "6f503914",
   "metadata": {},
   "outputs": [],
   "source": [
    "candies_count = [1,4,3,5,6,2]\n",
    "probability = [0.015,0.20,0.65,0.005,0.01,0.120]"
   ]
  },
  {
   "cell_type": "code",
   "execution_count": 11,
   "id": "b8f49c30",
   "metadata": {},
   "outputs": [],
   "source": [
    "expected_value = sum(x_i * P_x_i for x_i, P_x_i in zip(candies_count, probability))"
   ]
  },
  {
   "cell_type": "code",
   "execution_count": 12,
   "id": "4e0d8b3f",
   "metadata": {},
   "outputs": [
    {
     "data": {
      "text/plain": [
       "3.09"
      ]
     },
     "execution_count": 12,
     "metadata": {},
     "output_type": "execute_result"
    }
   ],
   "source": [
    "expected_value"
   ]
  },
  {
   "cell_type": "code",
   "execution_count": 13,
   "id": "4b6ed888",
   "metadata": {},
   "outputs": [
    {
     "ename": "TypeError",
     "evalue": "'float' object is not callable",
     "output_type": "error",
     "traceback": [
      "\u001b[1;31m---------------------------------------------------------------------------\u001b[0m",
      "\u001b[1;31mTypeError\u001b[0m                                 Traceback (most recent call last)",
      "Cell \u001b[1;32mIn[13], line 3\u001b[0m\n\u001b[0;32m      1\u001b[0m c_count \u001b[38;5;241m=\u001b[39m [\u001b[38;5;241m1\u001b[39m,\u001b[38;5;241m4\u001b[39m,\u001b[38;5;241m3\u001b[39m,\u001b[38;5;241m5\u001b[39m,\u001b[38;5;241m6\u001b[39m,\u001b[38;5;241m2\u001b[39m]\n\u001b[0;32m      2\u001b[0m ch_prob \u001b[38;5;241m=\u001b[39m [\u001b[38;5;241m0.015\u001b[39m,\u001b[38;5;241m0.20\u001b[39m,\u001b[38;5;241m0.65\u001b[39m,\u001b[38;5;241m0.005\u001b[39m,\u001b[38;5;241m0.01\u001b[39m,\u001b[38;5;241m0.120\u001b[39m]\n\u001b[1;32m----> 3\u001b[0m \u001b[43mexpected_value\u001b[49m\u001b[43m(\u001b[49m\u001b[43mc_count\u001b[49m\u001b[43m,\u001b[49m\u001b[43m \u001b[49m\u001b[43mch_prob\u001b[49m\u001b[43m)\u001b[49m\n",
      "\u001b[1;31mTypeError\u001b[0m: 'float' object is not callable"
     ]
    }
   ],
   "source": [
    "c_count = [1,4,3,5,6,2]\n",
    "ch_prob = [0.015,0.20,0.65,0.005,0.01,0.120]\n",
    "expected_value(c_count, ch_prob)"
   ]
  },
  {
   "cell_type": "code",
   "execution_count": null,
   "id": "b6fede35",
   "metadata": {},
   "outputs": [],
   "source": []
  }
 ],
 "metadata": {
  "kernelspec": {
   "display_name": "Python 3 (ipykernel)",
   "language": "python",
   "name": "python3"
  },
  "language_info": {
   "codemirror_mode": {
    "name": "ipython",
    "version": 3
   },
   "file_extension": ".py",
   "mimetype": "text/x-python",
   "name": "python",
   "nbconvert_exporter": "python",
   "pygments_lexer": "ipython3",
   "version": "3.10.9"
  }
 },
 "nbformat": 4,
 "nbformat_minor": 5
}
